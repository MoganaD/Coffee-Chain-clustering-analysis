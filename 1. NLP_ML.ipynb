{
 "cells": [
  {
   "cell_type": "code",
   "execution_count": 4,
   "metadata": {
    "id": "u9P0v_RQaPBu"
   },
   "outputs": [],
   "source": [
    "import pandas as pd\n",
    "import numpy as np"
   ]
  },
  {
   "cell_type": "code",
   "execution_count": 7,
   "metadata": {
    "id": "wCFLuTnHb2NZ"
   },
   "outputs": [],
   "source": [
    "df = pd.read_csv('../Data/Amazon_Unlocked_Mobile.csv',encoding=\"utf8\")\n",
    "df = df.sample(frac=1, random_state=10)"
   ]
  },
  {
   "cell_type": "code",
   "execution_count": 3,
   "metadata": {
    "colab": {
     "base_uri": "https://localhost:8080/",
     "height": 206
    },
    "executionInfo": {
     "elapsed": 9,
     "status": "ok",
     "timestamp": 1674783302728,
     "user": {
      "displayName": "Mogana Darshini",
      "userId": "05208473317274135119"
     },
     "user_tz": -480
    },
    "id": "BCHNvhc6aPBw",
    "outputId": "19af9dfc-1f2e-447e-aa73-4fc3b79c1800"
   },
   "outputs": [
    {
     "data": {
      "text/html": [
       "<div>\n",
       "<style scoped>\n",
       "    .dataframe tbody tr th:only-of-type {\n",
       "        vertical-align: middle;\n",
       "    }\n",
       "\n",
       "    .dataframe tbody tr th {\n",
       "        vertical-align: top;\n",
       "    }\n",
       "\n",
       "    .dataframe thead th {\n",
       "        text-align: right;\n",
       "    }\n",
       "</style>\n",
       "<table border=\"1\" class=\"dataframe\">\n",
       "  <thead>\n",
       "    <tr style=\"text-align: right;\">\n",
       "      <th></th>\n",
       "      <th>Product Name</th>\n",
       "      <th>Brand Name</th>\n",
       "      <th>Price</th>\n",
       "      <th>Rating</th>\n",
       "      <th>Reviews</th>\n",
       "      <th>Review Votes</th>\n",
       "    </tr>\n",
       "  </thead>\n",
       "  <tbody>\n",
       "    <tr>\n",
       "      <th>394349</th>\n",
       "      <td>Sony XPERIA Z2 D6503 FACTORY UNLOCKED Internat...</td>\n",
       "      <td>NaN</td>\n",
       "      <td>244.95</td>\n",
       "      <td>5</td>\n",
       "      <td>Very good one! Better than Samsung S and iphon...</td>\n",
       "      <td>0.0</td>\n",
       "    </tr>\n",
       "    <tr>\n",
       "      <th>34377</th>\n",
       "      <td>Apple iPhone 5c 8GB (Pink) - Verizon Wireless</td>\n",
       "      <td>Apple</td>\n",
       "      <td>194.99</td>\n",
       "      <td>1</td>\n",
       "      <td>The phone needed a SIM card, would have been n...</td>\n",
       "      <td>1.0</td>\n",
       "    </tr>\n",
       "    <tr>\n",
       "      <th>248521</th>\n",
       "      <td>Motorola Droid RAZR MAXX XT912 M Verizon Smart...</td>\n",
       "      <td>Motorola</td>\n",
       "      <td>174.99</td>\n",
       "      <td>5</td>\n",
       "      <td>I was 3 months away from my upgrade and my Str...</td>\n",
       "      <td>3.0</td>\n",
       "    </tr>\n",
       "    <tr>\n",
       "      <th>167661</th>\n",
       "      <td>CNPGD [U.S. Office Extended Warranty] Smartwat...</td>\n",
       "      <td>CNPGD</td>\n",
       "      <td>49.99</td>\n",
       "      <td>1</td>\n",
       "      <td>an experience i want to forget</td>\n",
       "      <td>0.0</td>\n",
       "    </tr>\n",
       "    <tr>\n",
       "      <th>73287</th>\n",
       "      <td>Apple iPhone 7 Unlocked Phone 256 GB - US Vers...</td>\n",
       "      <td>Apple</td>\n",
       "      <td>922.00</td>\n",
       "      <td>5</td>\n",
       "      <td>GREAT PHONE WORK ACCORDING MY EXPECTATIONS.</td>\n",
       "      <td>1.0</td>\n",
       "    </tr>\n",
       "  </tbody>\n",
       "</table>\n",
       "</div>"
      ],
      "text/plain": [
       "                                             Product Name Brand Name   Price  \\\n",
       "394349  Sony XPERIA Z2 D6503 FACTORY UNLOCKED Internat...        NaN  244.95   \n",
       "34377       Apple iPhone 5c 8GB (Pink) - Verizon Wireless      Apple  194.99   \n",
       "248521  Motorola Droid RAZR MAXX XT912 M Verizon Smart...   Motorola  174.99   \n",
       "167661  CNPGD [U.S. Office Extended Warranty] Smartwat...      CNPGD   49.99   \n",
       "73287   Apple iPhone 7 Unlocked Phone 256 GB - US Vers...      Apple  922.00   \n",
       "\n",
       "        Rating                                            Reviews  \\\n",
       "394349       5  Very good one! Better than Samsung S and iphon...   \n",
       "34377        1  The phone needed a SIM card, would have been n...   \n",
       "248521       5  I was 3 months away from my upgrade and my Str...   \n",
       "167661       1                     an experience i want to forget   \n",
       "73287        5        GREAT PHONE WORK ACCORDING MY EXPECTATIONS.   \n",
       "\n",
       "        Review Votes  \n",
       "394349           0.0  \n",
       "34377            1.0  \n",
       "248521           3.0  \n",
       "167661           0.0  \n",
       "73287            1.0  "
      ]
     },
     "execution_count": 3,
     "metadata": {},
     "output_type": "execute_result"
    }
   ],
   "source": [
    "df.head()"
   ]
  },
  {
   "cell_type": "code",
   "execution_count": 8,
   "metadata": {
    "colab": {
     "base_uri": "https://localhost:8080/"
    },
    "executionInfo": {
     "elapsed": 5,
     "status": "ok",
     "timestamp": 1674783306763,
     "user": {
      "displayName": "Mogana Darshini",
      "userId": "05208473317274135119"
     },
     "user_tz": -480
    },
    "id": "Irpy30BWaPBx",
    "outputId": "fa196a27-7f7d-488c-a00e-552945f779df"
   },
   "outputs": [
    {
     "data": {
      "text/plain": [
       "413840"
      ]
     },
     "execution_count": 8,
     "metadata": {},
     "output_type": "execute_result"
    }
   ],
   "source": [
    "len(df)"
   ]
  },
  {
   "cell_type": "code",
   "execution_count": 9,
   "metadata": {},
   "outputs": [
    {
     "name": "stdout",
     "output_type": "stream",
     "text": [
      "<class 'pandas.core.frame.DataFrame'>\n",
      "Int64Index: 413840 entries, 394349 to 345353\n",
      "Data columns (total 6 columns):\n",
      " #   Column        Non-Null Count   Dtype  \n",
      "---  ------        --------------   -----  \n",
      " 0   Product Name  413840 non-null  object \n",
      " 1   Brand Name    348669 non-null  object \n",
      " 2   Price         407907 non-null  float64\n",
      " 3   Rating        413840 non-null  int64  \n",
      " 4   Reviews       413778 non-null  object \n",
      " 5   Review Votes  401544 non-null  float64\n",
      "dtypes: float64(2), int64(1), object(3)\n",
      "memory usage: 22.1+ MB\n"
     ]
    }
   ],
   "source": [
    "df.info()"
   ]
  },
  {
   "cell_type": "code",
   "execution_count": 10,
   "metadata": {
    "id": "WXXxNZXZaPBx",
    "scrolled": true
   },
   "outputs": [],
   "source": [
    "# Drop missing values\n",
    "df.dropna(inplace=True)\n",
    "\n",
    "# Remove any 'neutral' ratings equal to 3\n",
    "df = df[df['Rating'] != 3]\n",
    "\n",
    "# Encode 4s and 5s as 1 (rated positively)\n",
    "# Encode 1s and 2s as 0 (rated poorly)\n",
    "df['Positively Rated'] = np.where(df['Rating'] > 3, 1, 0)"
   ]
  },
  {
   "cell_type": "code",
   "execution_count": 11,
   "metadata": {
    "colab": {
     "base_uri": "https://localhost:8080/",
     "height": 250
    },
    "executionInfo": {
     "elapsed": 486,
     "status": "ok",
     "timestamp": 1674783887018,
     "user": {
      "displayName": "Mogana Darshini",
      "userId": "05208473317274135119"
     },
     "user_tz": -480
    },
    "id": "AvsAHCbfaPBy",
    "outputId": "5e5c21ce-843d-4842-fdd1-d37e084faa44"
   },
   "outputs": [
    {
     "data": {
      "text/html": [
       "<div>\n",
       "<style scoped>\n",
       "    .dataframe tbody tr th:only-of-type {\n",
       "        vertical-align: middle;\n",
       "    }\n",
       "\n",
       "    .dataframe tbody tr th {\n",
       "        vertical-align: top;\n",
       "    }\n",
       "\n",
       "    .dataframe thead th {\n",
       "        text-align: right;\n",
       "    }\n",
       "</style>\n",
       "<table border=\"1\" class=\"dataframe\">\n",
       "  <thead>\n",
       "    <tr style=\"text-align: right;\">\n",
       "      <th></th>\n",
       "      <th>Product Name</th>\n",
       "      <th>Brand Name</th>\n",
       "      <th>Price</th>\n",
       "      <th>Rating</th>\n",
       "      <th>Reviews</th>\n",
       "      <th>Review Votes</th>\n",
       "      <th>Positively Rated</th>\n",
       "    </tr>\n",
       "  </thead>\n",
       "  <tbody>\n",
       "    <tr>\n",
       "      <th>34377</th>\n",
       "      <td>Apple iPhone 5c 8GB (Pink) - Verizon Wireless</td>\n",
       "      <td>Apple</td>\n",
       "      <td>194.99</td>\n",
       "      <td>1</td>\n",
       "      <td>The phone needed a SIM card, would have been n...</td>\n",
       "      <td>1.0</td>\n",
       "      <td>0</td>\n",
       "    </tr>\n",
       "    <tr>\n",
       "      <th>248521</th>\n",
       "      <td>Motorola Droid RAZR MAXX XT912 M Verizon Smart...</td>\n",
       "      <td>Motorola</td>\n",
       "      <td>174.99</td>\n",
       "      <td>5</td>\n",
       "      <td>I was 3 months away from my upgrade and my Str...</td>\n",
       "      <td>3.0</td>\n",
       "      <td>1</td>\n",
       "    </tr>\n",
       "    <tr>\n",
       "      <th>167661</th>\n",
       "      <td>CNPGD [U.S. Office Extended Warranty] Smartwat...</td>\n",
       "      <td>CNPGD</td>\n",
       "      <td>49.99</td>\n",
       "      <td>1</td>\n",
       "      <td>an experience i want to forget</td>\n",
       "      <td>0.0</td>\n",
       "      <td>0</td>\n",
       "    </tr>\n",
       "    <tr>\n",
       "      <th>73287</th>\n",
       "      <td>Apple iPhone 7 Unlocked Phone 256 GB - US Vers...</td>\n",
       "      <td>Apple</td>\n",
       "      <td>922.00</td>\n",
       "      <td>5</td>\n",
       "      <td>GREAT PHONE WORK ACCORDING MY EXPECTATIONS.</td>\n",
       "      <td>1.0</td>\n",
       "      <td>1</td>\n",
       "    </tr>\n",
       "    <tr>\n",
       "      <th>277158</th>\n",
       "      <td>Nokia N8 Unlocked GSM Touch Screen Phone Featu...</td>\n",
       "      <td>Nokia</td>\n",
       "      <td>95.00</td>\n",
       "      <td>5</td>\n",
       "      <td>I fell in love with this phone because it did ...</td>\n",
       "      <td>0.0</td>\n",
       "      <td>1</td>\n",
       "    </tr>\n",
       "  </tbody>\n",
       "</table>\n",
       "</div>"
      ],
      "text/plain": [
       "                                             Product Name Brand Name   Price  \\\n",
       "34377       Apple iPhone 5c 8GB (Pink) - Verizon Wireless      Apple  194.99   \n",
       "248521  Motorola Droid RAZR MAXX XT912 M Verizon Smart...   Motorola  174.99   \n",
       "167661  CNPGD [U.S. Office Extended Warranty] Smartwat...      CNPGD   49.99   \n",
       "73287   Apple iPhone 7 Unlocked Phone 256 GB - US Vers...      Apple  922.00   \n",
       "277158  Nokia N8 Unlocked GSM Touch Screen Phone Featu...      Nokia   95.00   \n",
       "\n",
       "        Rating                                            Reviews  \\\n",
       "34377        1  The phone needed a SIM card, would have been n...   \n",
       "248521       5  I was 3 months away from my upgrade and my Str...   \n",
       "167661       1                     an experience i want to forget   \n",
       "73287        5        GREAT PHONE WORK ACCORDING MY EXPECTATIONS.   \n",
       "277158       5  I fell in love with this phone because it did ...   \n",
       "\n",
       "        Review Votes  Positively Rated  \n",
       "34377            1.0                 0  \n",
       "248521           3.0                 1  \n",
       "167661           0.0                 0  \n",
       "73287            1.0                 1  \n",
       "277158           0.0                 1  "
      ]
     },
     "execution_count": 11,
     "metadata": {},
     "output_type": "execute_result"
    }
   ],
   "source": [
    "df.head()"
   ]
  },
  {
   "cell_type": "code",
   "execution_count": 12,
   "metadata": {
    "colab": {
     "base_uri": "https://localhost:8080/"
    },
    "executionInfo": {
     "elapsed": 567,
     "status": "ok",
     "timestamp": 1674783895576,
     "user": {
      "displayName": "Mogana Darshini",
      "userId": "05208473317274135119"
     },
     "user_tz": -480
    },
    "id": "pBXwoQxs32fH",
    "outputId": "624d987d-bc62-4ea6-d6e4-7d0ae783a6a1"
   },
   "outputs": [
    {
     "name": "stdout",
     "output_type": "stream",
     "text": [
      "<class 'pandas.core.frame.DataFrame'>\n",
      "Int64Index: 308277 entries, 34377 to 345353\n",
      "Data columns (total 7 columns):\n",
      " #   Column            Non-Null Count   Dtype  \n",
      "---  ------            --------------   -----  \n",
      " 0   Product Name      308277 non-null  object \n",
      " 1   Brand Name        308277 non-null  object \n",
      " 2   Price             308277 non-null  float64\n",
      " 3   Rating            308277 non-null  int64  \n",
      " 4   Reviews           308277 non-null  object \n",
      " 5   Review Votes      308277 non-null  float64\n",
      " 6   Positively Rated  308277 non-null  int32  \n",
      "dtypes: float64(2), int32(1), int64(1), object(3)\n",
      "memory usage: 17.6+ MB\n"
     ]
    }
   ],
   "source": [
    "df.info()"
   ]
  },
  {
   "cell_type": "markdown",
   "metadata": {
    "id": "uvC06wo_aPBy"
   },
   "source": [
    "# Model Selection in scikit-learn"
   ]
  },
  {
   "cell_type": "code",
   "execution_count": 13,
   "metadata": {
    "id": "drX213CaaPBz"
   },
   "outputs": [],
   "source": [
    "from sklearn.model_selection import train_test_split\n",
    "\n",
    "# Split data into train and test subsets\n",
    "X_train, X_test, y_train, y_test = train_test_split(df['Reviews'], \n",
    "                                                    df['Positively Rated'], \n",
    "                                                    random_state=0)"
   ]
  },
  {
   "cell_type": "code",
   "execution_count": 15,
   "metadata": {
    "colab": {
     "base_uri": "https://localhost:8080/"
    },
    "executionInfo": {
     "elapsed": 502,
     "status": "ok",
     "timestamp": 1674783980356,
     "user": {
      "displayName": "Mogana Darshini",
      "userId": "05208473317274135119"
     },
     "user_tz": -480
    },
    "id": "ddXilXW7aPBz",
    "outputId": "f8436ce4-620d-4020-eca9-808cae8a980a"
   },
   "outputs": [
    {
     "name": "stdout",
     "output_type": "stream",
     "text": [
      "Phone is a piece of work. Constantly goes out when talking on phone. I can hear other party but they can't hear me. Not happy ):\n"
     ]
    }
   ],
   "source": [
    "print( X_train.iloc[12])   "
   ]
  },
  {
   "cell_type": "code",
   "execution_count": 16,
   "metadata": {
    "colab": {
     "base_uri": "https://localhost:8080/"
    },
    "executionInfo": {
     "elapsed": 459,
     "status": "ok",
     "timestamp": 1674783983506,
     "user": {
      "displayName": "Mogana Darshini",
      "userId": "05208473317274135119"
     },
     "user_tz": -480
    },
    "id": "60Q-dG5OaPB0",
    "outputId": "77798deb-c753-43e4-b675-a8163ae0cefb"
   },
   "outputs": [
    {
     "data": {
      "text/plain": [
       "(231207,)"
      ]
     },
     "execution_count": 16,
     "metadata": {},
     "output_type": "execute_result"
    }
   ],
   "source": [
    "X_train.shape"
   ]
  },
  {
   "cell_type": "code",
   "execution_count": 17,
   "metadata": {
    "colab": {
     "base_uri": "https://localhost:8080/"
    },
    "executionInfo": {
     "elapsed": 5,
     "status": "ok",
     "timestamp": 1674783985757,
     "user": {
      "displayName": "Mogana Darshini",
      "userId": "05208473317274135119"
     },
     "user_tz": -480
    },
    "id": "OEEJJs7FaPB0",
    "outputId": "aeeef676-e8b7-47e5-a215-14469f5d7e6d"
   },
   "outputs": [
    {
     "data": {
      "text/plain": [
       "(77070,)"
      ]
     },
     "execution_count": 17,
     "metadata": {},
     "output_type": "execute_result"
    }
   ],
   "source": [
    "X_test.shape"
   ]
  },
  {
   "cell_type": "markdown",
   "metadata": {
    "id": "L95WPjpYaPB0"
   },
   "source": [
    "# Extracting features from text files\n",
    "\n",
    "\n",
    "Text files are actually series of words (ordered). In order to run machine learning algorithms we need to convert the text files into numerical feature vectors. We will be using bag of words model.\n",
    "\n",
    "## Bag-of-words (BOW)\n",
    "BOW model allows us to represent text as numerical feature vectors. The idea behind BOW is quite simple and can be summarized as follows:\n",
    "- 1) Create a vocabulary of unique tokens (or words) from the entire set \n",
    "    of documents.\n",
    "- 2) Construct a feature vector from each document that contains the counts of how often each word occurs in the particular document.\n",
    "\n",
    "Since the unique words in each document represent only a small subset of all the words in the bag-of-words vocabulary, the feature vectors will consist of mostly zeros, which is why we call them sparse. For this reason we say that bags of words are typically <b>high-dimensional sparse datasets</b>.\n",
    "\n",
    "{for our example. Briefly, we segment each text file into words (for English splitting by space), and count # of times each word occurs in each document and finally assign each word an integer id. Each unique word in our dictionary will correspond to a feature (descriptive feature).}\n",
    "\n",
    "\n",
    "### Transform words into vectors (CountVectorizer)\n",
    "To construct a bag-of-words model based on the word counts in the respective documents, we can use the `CountVectorizer` class implemented in `scikit-learn`. As we will see in the following codes, the `CountVectorizer` class takes an array of text data, which can be documents or just sentences, and constructs the bag-of-words model for us:\n",
    "\n",
    "Scikit-learn has a high level component which will create feature vectors for us <b>‘CountVectorizer’</b>"
   ]
  },
  {
   "cell_type": "code",
   "execution_count": 18,
   "metadata": {
    "id": "TYD7Lk_iaPB1"
   },
   "outputs": [],
   "source": [
    "from sklearn.feature_extraction.text import CountVectorizer\n",
    "\n",
    "docs = np.array([\n",
    "    'The sun is shining',\n",
    "    'The weather is sweet',\n",
    "    'The sun is shining and the weather is sweet'])\n",
    "\n",
    "# Fit the CountVectorizer to the training data \n",
    "vect1=CountVectorizer().fit(docs)\n",
    "\n",
    "# transform the documents in the training data to a document-term matrix. \n",
    "bag = vect1.transform(docs)"
   ]
  },
  {
   "cell_type": "code",
   "execution_count": 19,
   "metadata": {
    "colab": {
     "base_uri": "https://localhost:8080/"
    },
    "executionInfo": {
     "elapsed": 820,
     "status": "ok",
     "timestamp": 1674784470685,
     "user": {
      "displayName": "Mogana Darshini",
      "userId": "05208473317274135119"
     },
     "user_tz": -480
    },
    "id": "PCKKBr7paPB1",
    "outputId": "fa293158-a01d-40fc-d137-fc7055279888"
   },
   "outputs": [
    {
     "data": {
      "text/plain": [
       "{'the': 5, 'sun': 3, 'is': 1, 'shining': 2, 'weather': 6, 'sweet': 4, 'and': 0}"
      ]
     },
     "execution_count": 19,
     "metadata": {},
     "output_type": "execute_result"
    }
   ],
   "source": [
    "vect1.vocabulary_"
   ]
  },
  {
   "cell_type": "code",
   "execution_count": 21,
   "metadata": {
    "colab": {
     "base_uri": "https://localhost:8080/"
    },
    "executionInfo": {
     "elapsed": 5,
     "status": "ok",
     "timestamp": 1674784472689,
     "user": {
      "displayName": "Mogana Darshini",
      "userId": "05208473317274135119"
     },
     "user_tz": -480
    },
    "id": "gcuQbYaLe8lV",
    "outputId": "49a4e6ff-024f-4e10-9c69-08e54f51c842"
   },
   "outputs": [
    {
     "data": {
      "text/plain": [
       "array(['and', 'is', 'shining', 'sun', 'sweet', 'the', 'weather'],\n",
       "      dtype=object)"
      ]
     },
     "execution_count": 21,
     "metadata": {},
     "output_type": "execute_result"
    }
   ],
   "source": [
    "vect1.get_feature_names_out()"
   ]
  },
  {
   "cell_type": "markdown",
   "metadata": {
    "id": "sQkLvpwAaPB2"
   },
   "source": [
    "## <font color=green> Exercise A</font>\n",
    "\n",
    "1) Do CountVectorizer for training data\n",
    "\n",
    "2) Determine: \n",
    "- The number of features \n",
    "- The shape of sparse matrix"
   ]
  },
  {
   "cell_type": "code",
   "execution_count": 22,
   "metadata": {
    "colab": {
     "base_uri": "https://localhost:8080/"
    },
    "executionInfo": {
     "elapsed": 14802,
     "status": "ok",
     "timestamp": 1674785160217,
     "user": {
      "displayName": "Mogana Darshini",
      "userId": "05208473317274135119"
     },
     "user_tz": -480
    },
    "id": "s3G_IvJ5aPB2",
    "outputId": "ccd456cd-aa5e-455d-8cb0-f31e3a58076f"
   },
   "outputs": [
    {
     "name": "stdout",
     "output_type": "stream",
     "text": [
      "53301\n"
     ]
    },
    {
     "data": {
      "text/plain": [
       "(231207, 53301)"
      ]
     },
     "execution_count": 22,
     "metadata": {},
     "output_type": "execute_result"
    }
   ],
   "source": [
    "# Fit the CountVectorizer to the training data \n",
    "review1 = CountVectorizer().fit(X_train)\n",
    "\n",
    "# transform the documents in the training data to a document-term matrix. \n",
    "X_train_vectorized1 = review1.transform(X_train) #bag of words (unique token in vectors format)\n",
    "\n",
    "\n",
    "print(len(review1.get_feature_names()))\n",
    "X_train_vectorized1.shape"
   ]
  },
  {
   "cell_type": "code",
   "execution_count": 23,
   "metadata": {
    "colab": {
     "base_uri": "https://localhost:8080/"
    },
    "executionInfo": {
     "elapsed": 599,
     "status": "ok",
     "timestamp": 1674785164110,
     "user": {
      "displayName": "Mogana Darshini",
      "userId": "05208473317274135119"
     },
     "user_tz": -480
    },
    "id": "ed5YhuZkez3Z",
    "outputId": "09cb5ef9-4372-41e1-a2e3-a8eda9d7da39"
   },
   "outputs": [
    {
     "data": {
      "text/plain": [
       "{'it': 26074,\n",
       " 'an': 4929,\n",
       " 'otterbox': 33635,\n",
       " 'what': 51628,\n",
       " 'do': 15833,\n",
       " 'you': 52893,\n",
       " 'expect': 18613,\n",
       " 'sturdy': 45292,\n",
       " 'and': 4962,\n",
       " 'makes': 28973,\n",
       " 'the': 47008,\n",
       " 'tablet': 46182,\n",
       " 'easier': 16644,\n",
       " 'to': 47699,\n",
       " 'hold': 23637,\n",
       " 'on': 33050,\n",
       " 'very': 50519,\n",
       " 'good': 21809,\n",
       " 'phone': 35063,\n",
       " 'was': 51235,\n",
       " 'in': 24683,\n",
       " 'great': 22209,\n",
       " 'condition': 11918,\n",
       " 'functions': 20870,\n",
       " 'well': 51539,\n",
       " 'only': 33132,\n",
       " 'problem': 36816,\n",
       " 'is': 25971,\n",
       " 'with': 52022,\n",
       " 'battery': 7124,\n",
       " 'life': 27853,\n",
       " 'but': 9055,\n",
       " 'that': 46980,\n",
       " 'given': 21579,\n",
       " 'when': 51670,\n",
       " 'buy': 9116,\n",
       " 'used': 49923,\n",
       " 'previous': 36614,\n",
       " 'owner': 33956,\n",
       " 'most': 30794,\n",
       " 'likely': 28008,\n",
       " 'wore': 52220,\n",
       " 'down': 16069,\n",
       " 'all': 4501,\n",
       " 'also': 4635,\n",
       " 'shipped': 42554,\n",
       " 'extreamly': 18902,\n",
       " 'fast': 19255,\n",
       " 'amazing': 4754,\n",
       " 'had': 22671,\n",
       " 'two': 48731,\n",
       " 'of': 32800,\n",
       " 'them': 47064,\n",
       " 'from': 20646,\n",
       " 'how': 23878,\n",
       " 'much': 31030,\n",
       " 'enjoyed': 17389,\n",
       " 'simplicity': 42939,\n",
       " 'highly': 23481,\n",
       " 'recommended': 38849,\n",
       " 'for': 20196,\n",
       " 'texting': 46850,\n",
       " 'teenager': 46551,\n",
       " 'keyboard': 26841,\n",
       " 'spaced': 44119,\n",
       " 'perfectly': 34755,\n",
       " 'excelent': 18305,\n",
       " 'so': 43717,\n",
       " 'far': 19197,\n",
       " 'ordered': 33437,\n",
       " 'feb': 19429,\n",
       " '2015': 912,\n",
       " 'rcvd': 38361,\n",
       " '10': 130,\n",
       " 'no': 32085,\n",
       " 'getting': 21452,\n",
       " 'sim': 42873,\n",
       " 'card': 9745,\n",
       " 'having': 23068,\n",
       " 'activated': 3688,\n",
       " 'really': 38485,\n",
       " 'signs': 42837,\n",
       " 'can': 9569,\n",
       " 'see': 41873,\n",
       " 'seller': 41980,\n",
       " 'satisfied': 41319,\n",
       " 'shipping': 42558,\n",
       " 'works': 52304,\n",
       " 'fell': 19490,\n",
       " 'height': 23292,\n",
       " '30': 1394,\n",
       " 'cm': 11079,\n",
       " 'got': 21965,\n",
       " 'up': 49668,\n",
       " 'chair': 10236,\n",
       " 'screen': 41604,\n",
       " 'broke': 8701,\n",
       " 'just': 26685,\n",
       " 'days': 13797,\n",
       " 'bought': 8427,\n",
       " 'where': 51677,\n",
       " 'gorila': 21950,\n",
       " 'glass': 21616,\n",
       " 'if': 24330,\n",
       " 'not': 32269,\n",
       " 'want': 51138,\n",
       " 'lose': 28532,\n",
       " 'your': 52927,\n",
       " 'money': 30627,\n",
       " 'this': 47255,\n",
       " 'because': 7337,\n",
       " 'january': 26346,\n",
       " '2016': 928,\n",
       " 'stopped': 45006,\n",
       " 'working': 52271,\n",
       " 'died': 15040,\n",
       " 'contacted': 12320,\n",
       " 'several': 42316,\n",
       " 'times': 47564,\n",
       " 'he': 23132,\n",
       " 'never': 31814,\n",
       " 'answered': 5188,\n",
       " 'me': 29479,\n",
       " '590': 2176,\n",
       " 'prejudice': 36444,\n",
       " 'doesn': 15887,\n",
       " 'work': 52227,\n",
       " 'nothing': 32314,\n",
       " 'has': 22975,\n",
       " 'concert': 11871,\n",
       " 'have': 23040,\n",
       " 'warranty': 51212,\n",
       " 'own': 33950,\n",
       " 'these': 47149,\n",
       " 'one': 33065,\n",
       " 'international': 25582,\n",
       " 'version': 50483,\n",
       " 'during': 16433,\n",
       " 'travels': 48292,\n",
       " 'another': 5165,\n",
       " 'mobile': 30439,\n",
       " 'came': 9454,\n",
       " 'android': 5017,\n",
       " 'liked': 28000,\n",
       " 'more': 30739,\n",
       " 'less': 27701,\n",
       " 'glitchesand': 21648,\n",
       " 'runs': 40849,\n",
       " 'smoother': 43580,\n",
       " 'efficient': 16850,\n",
       " 'anyway': 5301,\n",
       " 'applies': 5490,\n",
       " 'software': 43777,\n",
       " 'update': 49688,\n",
       " 'pretty': 36590,\n",
       " 'right': 40446,\n",
       " 'awayand': 6462,\n",
       " 'now': 32418,\n",
       " 'both': 8395,\n",
       " 'run': 40834,\n",
       " 'same': 41147,\n",
       " 'faster': 19272,\n",
       " 'cpu': 12934,\n",
       " '5ghz': 2208,\n",
       " 'vs': 50933,\n",
       " '1ghz': 773,\n",
       " 'thoughhonestly': 47321,\n",
       " 'don': 15953,\n",
       " 'feel': 19463,\n",
       " 'difference': 15078,\n",
       " 'games': 21156,\n",
       " 'use': 49907,\n",
       " 'usual': 50029,\n",
       " 'set': 42260,\n",
       " 'applications': 5483,\n",
       " 'google': 21899,\n",
       " 'sgmail': 42361,\n",
       " 'maps': 29209,\n",
       " 'talk': 46272,\n",
       " 'facebook': 18988,\n",
       " 'client': 10968,\n",
       " 'messenger': 29838,\n",
       " 'skype': 43204,\n",
       " 'which': 51692,\n",
       " 'officially': 32866,\n",
       " 'supported': 45725,\n",
       " 'samsungexhibit': 41188,\n",
       " 'wonder': 52152,\n",
       " 'few': 19538,\n",
       " 'other': 33593,\n",
       " 'social': 43737,\n",
       " 'networking': 31793,\n",
       " 'informational': 25073,\n",
       " 'apps': 5545,\n",
       " 'activationwas': 3705,\n",
       " 'blaze': 7947,\n",
       " 'like': 27995,\n",
       " 'nice': 31919,\n",
       " 'except': 18377,\n",
       " 'sunny': 45595,\n",
       " 'places': 35594,\n",
       " 'surprisingly': 45816,\n",
       " 'clear': 10916,\n",
       " 'tft': 46879,\n",
       " 'however': 23884,\n",
       " 'my': 31231,\n",
       " 'eyes': 18932,\n",
       " 'amoledmore': 4874,\n",
       " 'size': 43088,\n",
       " 'live': 28184,\n",
       " 'smaller': 43441,\n",
       " 'speed': 44306,\n",
       " 'superb': 45615,\n",
       " 'lifeis': 27890,\n",
       " 'fantastic': 19179,\n",
       " 'anything': 5291,\n",
       " 'particular': 34314,\n",
       " 'conditions': 11928,\n",
       " 'direct': 15258,\n",
       " 'sun': 45575,\n",
       " 'etc': 17996,\n",
       " 'small': 43437,\n",
       " 'means': 29491,\n",
       " 'lesscomfortable': 27703,\n",
       " 'overall': 33789,\n",
       " 'smartphone': 43485,\n",
       " 'its': 26169,\n",
       " 'price': 36632,\n",
       " 're': 38369,\n",
       " 'ready': 38420,\n",
       " 'give': 21575,\n",
       " 'quality': 37829,\n",
       " 'ruined': 40817,\n",
       " 'regards': 39203,\n",
       " 'get': 21431,\n",
       " 'at': 6051,\n",
       " '6am': 2449,\n",
       " 'play': 35663,\n",
       " 'day': 13774,\n",
       " 'go': 21727,\n",
       " 'bed': 7365,\n",
       " 'absolutely': 3317,\n",
       " 'say': 41387,\n",
       " 'bad': 6802,\n",
       " 'best': 7586,\n",
       " 've': 50276,\n",
       " 'ever': 18108,\n",
       " 'owned': 33954,\n",
       " 'piece': 35405,\n",
       " 'constantly': 12270,\n",
       " 'goes': 21751,\n",
       " 'out': 33663,\n",
       " 'talking': 46285,\n",
       " 'hear': 23197,\n",
       " 'party': 34342,\n",
       " 'they': 47168,\n",
       " 'happy': 22892,\n",
       " 'package': 34038,\n",
       " 'properly': 37217,\n",
       " 'brand': 8536,\n",
       " 'new': 31822,\n",
       " 'love': 28595,\n",
       " 'moto': 30829,\n",
       " 'bluetooth': 8126,\n",
       " 'headset': 23169,\n",
       " 'after': 4158,\n",
       " 'using': 50004,\n",
       " 'almost': 4590,\n",
       " 'month': 30680,\n",
       " 'there': 47123,\n",
       " 'are': 5667,\n",
       " 'issues': 26044,\n",
       " 'gets': 21445,\n",
       " 'hot': 23821,\n",
       " 'sometimes': 43929,\n",
       " 'charging': 10347,\n",
       " 'errors': 17721,\n",
       " 'time': 47525,\n",
       " 'opening': 33242,\n",
       " 'app': 5415,\n",
       " 'reset': 39851,\n",
       " 'continues': 12387,\n",
       " 'happen': 22872,\n",
       " 'company': 11531,\n",
       " 'sent': 42097,\n",
       " 'ok': 32965,\n",
       " 'gracias': 22045,\n",
       " 'evening': 18092,\n",
       " 'write': 52487,\n",
       " 'about': 3284,\n",
       " 'htc': 23920,\n",
       " 'cel': 10055,\n",
       " 'default': 14109,\n",
       " 'by': 9174,\n",
       " 'sides': 42776,\n",
       " 'looked': 28457,\n",
       " 'separates': 42124,\n",
       " 'little': 28175,\n",
       " 'could': 12810,\n",
       " 'things': 47214,\n",
       " 'pay': 34446,\n",
       " 'attention': 6163,\n",
       " 'light': 27938,\n",
       " 'send': 42036,\n",
       " 'him': 23525,\n",
       " 'repair': 39582,\n",
       " 'until': 49615,\n",
       " 'today': 47737,\n",
       " 'touch': 47964,\n",
       " 'does': 15883,\n",
       " 'button': 9083,\n",
       " 'above': 3290,\n",
       " 'returns': 40225,\n",
       " 'natural': 31473,\n",
       " 'state': 44787,\n",
       " 'remains': 39447,\n",
       " 'help': 23319,\n",
       " 'seems': 41892,\n",
       " 'unfair': 49205,\n",
       " 'spend': 44346,\n",
       " '189': 675,\n",
       " 'dollars': 15918,\n",
       " 'turns': 48652,\n",
       " 'hard': 22907,\n",
       " 'or': 33409,\n",
       " 'months': 30689,\n",
       " 'please': 35713,\n",
       " 'would': 52390,\n",
       " 'be': 7257,\n",
       " 'grateful': 22171,\n",
       " 'waiting': 51068,\n",
       " 'prompt': 37170,\n",
       " 'response': 40008,\n",
       " 'receive': 38635,\n",
       " 'lots': 28559,\n",
       " 'calls': 9403,\n",
       " 'take': 46245,\n",
       " 'directly': 15271,\n",
       " 'voice': 50838,\n",
       " 'mail': 28928,\n",
       " 'sounds': 44080,\n",
       " 'turned': 48643,\n",
       " 'off': 32825,\n",
       " 'slow': 43386,\n",
       " 'good1': 21810,\n",
       " 'main': 28940,\n",
       " 'reason': 38516,\n",
       " 'did': 15017,\n",
       " 'product': 36970,\n",
       " 'arrived': 5784,\n",
       " 'docking': 15850,\n",
       " 'slot': 43354,\n",
       " 'misaligned': 30219,\n",
       " 'as': 5845,\n",
       " 'were': 51574,\n",
       " 'screws': 41690,\n",
       " 'holding': 23642,\n",
       " 'place': 35584,\n",
       " 'damaged': 13644,\n",
       " 'cables': 9259,\n",
       " 'trying': 48535,\n",
       " 'finally': 19661,\n",
       " 'mu': 31028,\n",
       " 'apple': 5459,\n",
       " 'dealer': 13882,\n",
       " 'serial': 42166,\n",
       " 'discovered': 15437,\n",
       " 'reality': 38455,\n",
       " 'purchased': 37594,\n",
       " 'over': 33785,\n",
       " 'year': 52779,\n",
       " 'before': 7407,\n",
       " 'whose': 51784,\n",
       " 'expired': 18746,\n",
       " 'amazon': 4779,\n",
       " 'stood': 44996,\n",
       " 'refunded': 39151,\n",
       " 'hassle': 23000,\n",
       " 'outside': 33753,\n",
       " 'usa': 49844,\n",
       " 'am': 4713,\n",
       " 'replacement': 39644,\n",
       " 'will': 51880,\n",
       " 'knowingly': 27058,\n",
       " 'folks': 20138,\n",
       " 'again': 4188,\n",
       " '100': 131,\n",
       " 'reconmedable': 38891,\n",
       " 'saludos': 41130,\n",
       " 'any': 5252,\n",
       " 'verizon': 50452,\n",
       " 'carrier': 9862,\n",
       " 'page': 34074,\n",
       " 'plusred': 35818,\n",
       " 'pocket': 35855,\n",
       " 'even': 18089,\n",
       " 'case': 9903,\n",
       " 'why': 51796,\n",
       " 'match': 29357,\n",
       " 'together': 47755,\n",
       " 'review': 40280,\n",
       " 'against': 4196,\n",
       " 'perfect': 34730,\n",
       " 'always': 4705,\n",
       " 'starts': 44776,\n",
       " 'possible': 36158,\n",
       " 'then': 47090,\n",
       " 'wouldn': 52394,\n",
       " 'able': 3261,\n",
       " 'honest': 23705,\n",
       " 'upon': 49757,\n",
       " 'receiving': 38644,\n",
       " 'everything': 18169,\n",
       " 'aesthetically': 4082,\n",
       " 'fine': 19685,\n",
       " 'charged': 10310,\n",
       " 'night': 31983,\n",
       " 'worked': 52254,\n",
       " 'without': 52054,\n",
       " 'next': 31881,\n",
       " 'end': 17295,\n",
       " 'big': 7721,\n",
       " 'deal': 13879,\n",
       " 'home': 23669,\n",
       " 'plug': 35778,\n",
       " 'displace': 15583,\n",
       " 'appears': 5447,\n",
       " 'shuts': 42741,\n",
       " 'charge': 10303,\n",
       " 'turn': 48639,\n",
       " 'while': 51701,\n",
       " 'plugged': 35782,\n",
       " 'online': 33125,\n",
       " 'forums': 20335,\n",
       " 'samsung': 41180,\n",
       " 'suggested': 45515,\n",
       " 'fix': 19835,\n",
       " 'none': 32168,\n",
       " 'options': 33387,\n",
       " 'resolved': 39938,\n",
       " 'sold': 43809,\n",
       " 'sh': 42373,\n",
       " 'model': 30508,\n",
       " 'number': 32508,\n",
       " 'didn': 15032,\n",
       " 'initially': 25143,\n",
       " 'instead': 25367,\n",
       " 'thought': 47330,\n",
       " 'buying': 9133,\n",
       " 'selling': 41997,\n",
       " 'deceived': 13967,\n",
       " 'lied': 27846,\n",
       " 'their': 47059,\n",
       " 'gave': 21262,\n",
       " 'zero': 53096,\n",
       " 'solution': 43873,\n",
       " 'wrong': 52509,\n",
       " 'provided': 37381,\n",
       " 'unmatched': 49431,\n",
       " 'service': 42210,\n",
       " 'support': 45721,\n",
       " 'bueno': 8845,\n",
       " 'exactly': 18252,\n",
       " 'described': 14558,\n",
       " 'excelente': 18306,\n",
       " 'unfortunately': 49233,\n",
       " 'equipment': 17643,\n",
       " 'low': 28630,\n",
       " 'began': 7418,\n",
       " 'present': 36513,\n",
       " 'faults': 19329,\n",
       " 'week': 51476,\n",
       " 'ago': 4248,\n",
       " 'guarantee': 22450,\n",
       " 'regret': 39256,\n",
       " 'spent': 44353,\n",
       " '299': 1285,\n",
       " '11': 274,\n",
       " 'way': 51355,\n",
       " 'last': 27397,\n",
       " 'something': 43924,\n",
       " 'trust': 48510,\n",
       " 'mistake': 30319,\n",
       " 'make': 28967,\n",
       " 'yo': 52870,\n",
       " 'eviten': 18209,\n",
       " 'uying': 50112,\n",
       " 'load': 28284,\n",
       " 'fails': 19061,\n",
       " 'longer': 28434,\n",
       " 'fixed': 19839,\n",
       " 'replaced': 39639,\n",
       " 'lost': 28545,\n",
       " 'moneyamazon': 30629,\n",
       " 'sell': 41971,\n",
       " 'item': 26111,\n",
       " 'cell': 10063,\n",
       " 'look': 28453,\n",
       " 'picture': 35375,\n",
       " 'outdated': 33681,\n",
       " 'waste': 51270,\n",
       " 'okay': 32967,\n",
       " 'microphone': 29968,\n",
       " 'glitches': 21647,\n",
       " 'intermittently': 25568,\n",
       " 'froze': 20682,\n",
       " 'called': 9379,\n",
       " 'hunting': 24038,\n",
       " 'internet': 25593,\n",
       " 'find': 19673,\n",
       " 'contact': 12317,\n",
       " 'spoke': 44429,\n",
       " 'associate': 5986,\n",
       " 'who': 51755,\n",
       " 'rude': 40796,\n",
       " 'short': 42631,\n",
       " 'she': 42467,\n",
       " 'transferred': 48184,\n",
       " 'someone': 43914,\n",
       " 'else': 17045,\n",
       " 'guy': 22557,\n",
       " 'yeah': 52774,\n",
       " 'explaining': 18758,\n",
       " 'happened': 22875,\n",
       " 'put': 37683,\n",
       " 'his': 23561,\n",
       " 'hand': 22761,\n",
       " 'receiver': 38640,\n",
       " 'conversation': 12491,\n",
       " 'speaking': 44220,\n",
       " 'staff': 44648,\n",
       " 'professional': 37036,\n",
       " 'interested': 25526,\n",
       " 'helping': 23328,\n",
       " 'told': 47780,\n",
       " 'said': 41064,\n",
       " 'couldn': 12814,\n",
       " 'submitted': 45356,\n",
       " 'through': 47395,\n",
       " 'website': 51454,\n",
       " 'rma': 40537,\n",
       " 'navigated': 31506,\n",
       " 'webite': 51439,\n",
       " 'long': 28431,\n",
       " 'process': 36895,\n",
       " 'issued': 26038,\n",
       " 'specific': 44251,\n",
       " 'instructions': 25390,\n",
       " 'followed': 20144,\n",
       " 'including': 24770,\n",
       " 'purchasing': 37604,\n",
       " 'insurance': 25421,\n",
       " 'posh': 36117,\n",
       " 'cost': 12767,\n",
       " '23': 1062,\n",
       " '00': 0,\n",
       " 'bricked': 8614,\n",
       " 'weeks': 51483,\n",
       " 'received': 38636,\n",
       " 'email': 17065,\n",
       " 'stating': 44805,\n",
       " 'sorry': 44029,\n",
       " 'water': 51306,\n",
       " 'covered': 12899,\n",
       " 'under': 49092,\n",
       " 'back': 6723,\n",
       " 'took': 47842,\n",
       " 'friend': 20588,\n",
       " 'sort': 44030,\n",
       " 'professionally': 37038,\n",
       " 'disassembled': 15356,\n",
       " 'hardware': 22931,\n",
       " 'issue': 26034,\n",
       " 'prevented': 36602,\n",
       " 'booting': 8334,\n",
       " 'note': 32285,\n",
       " 'cannot': 9630,\n",
       " 'cases': 9919,\n",
       " 'protectors': 37336,\n",
       " 'phones': 35185,\n",
       " 'cheap': 10410,\n",
       " 'customer': 13438,\n",
       " 'terrible': 46782,\n",
       " 'save': 41364,\n",
       " 'toward': 48022,\n",
       " 'reputable': 39746,\n",
       " 'excellent': 18341,\n",
       " 'minor': 30160,\n",
       " 'scratches': 41575,\n",
       " 'pleased': 35714,\n",
       " 'first': 19786,\n",
       " 'sure': 45770,\n",
       " 'system': 46097,\n",
       " 'restarting': 40060,\n",
       " 'anymore': 5266,\n",
       " 'completely': 11673,\n",
       " 'shower': 42694,\n",
       " 'many': 29195,\n",
       " 'prank': 36314,\n",
       " 'friends': 20603,\n",
       " 'poured': 36216,\n",
       " 'thrown': 47410,\n",
       " 'puddles': 37494,\n",
       " 'tossed': 47930,\n",
       " 'around': 5746,\n",
       " 'course': 12873,\n",
       " 'still': 44929,\n",
       " 'wife': 51828,\n",
       " 'camera': 9460,\n",
       " 'likes': 28013,\n",
       " 'selfies': 41964,\n",
       " 'myself': 31259,\n",
       " 'iphone': 25833,\n",
       " '4s': 2010,\n",
       " 'upgrade': 49733,\n",
       " 'newer': 31835,\n",
       " 'need': 31601,\n",
       " 'glad': 21597,\n",
       " 'waited': 51065,\n",
       " 'communicated': 11483,\n",
       " 'reguards': 39271,\n",
       " 'questions': 37955,\n",
       " 'deffenately': 14170,\n",
       " 'future': 20936,\n",
       " 'itself': 26175,\n",
       " 'since': 42970,\n",
       " 'extremely': 18906,\n",
       " 'disappointed': 15327,\n",
       " 'fact': 19029,\n",
       " 'running': 40846,\n",
       " 'gsm': 22417,\n",
       " 'unlocked': 49387,\n",
       " 'scam': 41416,\n",
       " 'rooting': 40683,\n",
       " 'thing': 47207,\n",
       " 'absolute': 3316,\n",
       " 'hell': 23305,\n",
       " 'information': 25072,\n",
       " 'been': 7384,\n",
       " 'altered': 4660,\n",
       " 'otherwise': 33606,\n",
       " 'better': 7632,\n",
       " 'than': 46914,\n",
       " 'expected': 18635,\n",
       " 'displeased': 15613,\n",
       " 'bit': 7801,\n",
       " 'scammy': 41426,\n",
       " 'somewhere': 43938,\n",
       " 'loved': 28597,\n",
       " 'm7': 28828,\n",
       " 'm9': 28834,\n",
       " 'beautiful': 7310,\n",
       " 'durable': 16406,\n",
       " 'capable': 9662,\n",
       " 'lets': 27725,\n",
       " 'ask': 5907,\n",
       " 'years': 52787,\n",
       " 'disapointed': 15312,\n",
       " 'effective': 16842,\n",
       " 'looking': 28462,\n",
       " 'mine': 30108,\n",
       " 'some': 43896,\n",
       " 'shutting': 42747,\n",
       " 'self': 41958,\n",
       " 'blu': 8091,\n",
       " 'hello': 23310,\n",
       " 'n79': 31327,\n",
       " 'n85': 31340,\n",
       " 'wich': 51802,\n",
       " 'dont': 15977,\n",
       " 'color': 11275,\n",
       " 'tell': 46651,\n",
       " 'silver': 42870,\n",
       " 'bottons': 8419,\n",
       " 'white': 51733,\n",
       " 'inform': 25063,\n",
       " 'front': 20662,\n",
       " 'yes': 52816,\n",
       " 'looks': 28466,\n",
       " 'recommend': 38842,\n",
       " 'anyone': 5276,\n",
       " 'parts': 34338,\n",
       " 'realiable': 38439,\n",
       " 'specialize': 44238,\n",
       " 'saticfaction': 41281,\n",
       " 'comes': 11383,\n",
       " 'packaging': 34046,\n",
       " 'deliveries': 14343,\n",
       " 'made': 28872,\n",
       " 'ease': 16635,\n",
       " 'safty': 41057,\n",
       " 'wrapped': 52450,\n",
       " 'discribe': 15456,\n",
       " 'arrival': 5780,\n",
       " 'tee': 46546,\n",
       " 'resources': 39956,\n",
       " 'im': 24450,\n",
       " 'going': 21769,\n",
       " 'til': 47509,\n",
       " 'come': 11355,\n",
       " 'forward': 20340,\n",
       " 'towards': 48023,\n",
       " 'saving': 41375,\n",
       " 'distributors': 15755,\n",
       " 'charger': 10320,\n",
       " 'ear': 16587,\n",
       " 'rico': 40414,\n",
       " 'mark': 29250,\n",
       " 'scratch': 41571,\n",
       " 'browsing': 8749,\n",
       " 'net': 31736,\n",
       " 'view': 50667,\n",
       " 'accounts': 3509,\n",
       " 'plus': 35808,\n",
       " 'decent': 13978,\n",
       " 'ratio': 38299,\n",
       " 'although': 4679,\n",
       " 'galaxy': 21096,\n",
       " 'beauty': 7321,\n",
       " 'beware': 7666,\n",
       " 'misleading': 30266,\n",
       " 'title': 47638,\n",
       " 'european': 18054,\n",
       " 'locked': 28329,\n",
       " 'knows': 27064,\n",
       " 'region': 39225,\n",
       " 'possibly': 36162,\n",
       " 'germany': 21420,\n",
       " 'maybe': 29431,\n",
       " 'assuming': 6001,\n",
       " 'factory': 19038,\n",
       " 'german': 21418,\n",
       " 'll': 28205,\n",
       " 'unlock': 49384,\n",
       " 'code': 11158,\n",
       " '40': 1762,\n",
       " 'may': 29427,\n",
       " 'basically': 7045,\n",
       " 'located': 28317,\n",
       " 'americas': 4840,\n",
       " 'avoid': 6424,\n",
       " 'us': 49838,\n",
       " 'damn': 13657,\n",
       " 'enforcing': 17333,\n",
       " 'locking': 28338,\n",
       " 'buyers': 9126,\n",
       " 'cdma': 10035,\n",
       " 'sprint': 44499,\n",
       " 'ended': 17300,\n",
       " 'switching': 45995,\n",
       " 'carriers': 9867,\n",
       " 'needed': 31607,\n",
       " 'besides': 7583,\n",
       " 'already': 4624,\n",
       " 'forgetting': 20259,\n",
       " 'worth': 52372,\n",
       " 'describe': 14556,\n",
       " 'stars': 44754,\n",
       " '1st': 816,\n",
       " 'restarted': 40058,\n",
       " 'el': 16916,\n",
       " 'proceso': 36893,\n",
       " 'realizado': 38458,\n",
       " 'sin': 42966,\n",
       " 'ningun': 32025,\n",
       " 'problema': 36819,\n",
       " 'la': 27199,\n",
       " 'entrega': 17504,\n",
       " 'fue': 20746,\n",
       " 'realizada': 38457,\n",
       " 'plena': 35739,\n",
       " 'satisfacción': 41296,\n",
       " 'durante': 16419,\n",
       " 'tiempo': 47479,\n",
       " 'establecido': 17895,\n",
       " 'se': 41764,\n",
       " 'recomienda': 38817,\n",
       " 'vendedor': 50325,\n",
       " 'gift': 21499,\n",
       " 'each': 16575,\n",
       " 'keep': 26796,\n",
       " 'coming': 11415,\n",
       " 'complain': 11632,\n",
       " 'lightness': 27963,\n",
       " 'weight': 51503,\n",
       " 'pictures': 35383,\n",
       " 'quickly': 37982,\n",
       " 'changing': 10278,\n",
       " 'features': 19402,\n",
       " 'display': 15584,\n",
       " 'improvement': 24657,\n",
       " 'ways': 51364,\n",
       " 'easy': 16663,\n",
       " 'otter': 33633,\n",
       " 'box': 8461,\n",
       " 'kept': 26823,\n",
       " 'smart': 43463,\n",
       " 'job': 26490,\n",
       " 'definitely': 14213,\n",
       " 'suggest': 45514,\n",
       " 'awesome': 6484,\n",
       " 'exelemte': 18478,\n",
       " 'quick': 37969,\n",
       " 'clip': 10988,\n",
       " 'holds': 23647,\n",
       " 'broken': 8704,\n",
       " 'making': 28979,\n",
       " 'useless': 49954,\n",
       " 'bummed': 8959,\n",
       " 'know': 27054,\n",
       " 'ahead': 4295,\n",
       " 'tickled': 47466,\n",
       " 'blutekusa': 8175,\n",
       " 'those': 47313,\n",
       " 'fancy': 19162,\n",
       " 'finger': 19711,\n",
       " 'prints': 36743,\n",
       " 'measuring': 29506,\n",
       " 'heart': 23210,\n",
       " 'rate': 38286,\n",
       " 's6': 40955,\n",
       " 'basic': 7042,\n",
       " 'requirements': 39777,\n",
       " 'lowest': 28639,\n",
       " 'ecuador': 16754,\n",
       " 'others': 33597,\n",
       " 'cuontries': 13373,\n",
       " 'spanish': 44148,\n",
       " 'download': 16088,\n",
       " 'programs': 37084,\n",
       " 'change': 10266,\n",
       " 'within': 52041,\n",
       " 'owning': 33961,\n",
       " 'headphone': 23153,\n",
       " 'jack': 26288,\n",
       " 'left': 27612,\n",
       " 'earbud': 16589,\n",
       " 'tried': 48380,\n",
       " 'pairs': 34118,\n",
       " 'headphones': 23155,\n",
       " 'solve': 43881,\n",
       " 'replace': 39637,\n",
       " 'whole': 51760,\n",
       " 'lower': 28634,\n",
       " 'part': 34296,\n",
       " 'secondly': 41828,\n",
       " 'acting': 3669,\n",
       " 'funky': 20892,\n",
       " 'yesterday': 52826,\n",
       " 'checked': 10447,\n",
       " 'accessory': 3456,\n",
       " 'hasn': 22991,\n",
       " 'different': 15082,\n",
       " 'yet': 52834,\n",
       " 'shouldn': 42675,\n",
       " 'blame': 7911,\n",
       " 'wonderful': 52158,\n",
       " 'sale': 41093,\n",
       " '79': 2616,\n",
       " 'exceeds': 18289,\n",
       " 'expectations': 18624,\n",
       " 'paid': 34091,\n",
       " 'compared': 11551,\n",
       " 'pricey': 36691,\n",
       " 'market': 29256,\n",
       " 'fully': 20795,\n",
       " 'network': 31783,\n",
       " 'returned': 40217,\n",
       " 'rep': 39573,\n",
       " 'dealfisher': 13887,\n",
       " 'admitted': 3940,\n",
       " 'common': 11471,\n",
       " 'proceed': 36884,\n",
       " 'caution': 10000,\n",
       " 'fortunately': 20329,\n",
       " 'allowed': 4548,\n",
       " 'return': 40210,\n",
       " 'full': 20774,\n",
       " 'refund': 39149,\n",
       " 'problems': 36839,\n",
       " 'husband': 24056,\n",
       " 'older': 32995,\n",
       " 'old': 32992,\n",
       " 'lasted': 27399,\n",
       " 'forever': 20242,\n",
       " '50': 2035,\n",
       " 'slim': 43297,\n",
       " 'standard': 44694,\n",
       " 'wants': 51150,\n",
       " 'simple': 42929,\n",
       " 'texts': 46857,\n",
       " 'here': 23361,\n",
       " 'met': 29850,\n",
       " 'hi': 23438,\n",
       " 'messege': 29836,\n",
       " 'dear': 13899,\n",
       " 'cellphone': 10097,\n",
       " 'start': 44765,\n",
       " 'trouble': 48444,\n",
       " 'internally': 25574,\n",
       " 'restore': 40079,\n",
       " 'desition': 14689,\n",
       " 'discrived': 15464,\n",
       " 'crarified': 13019,\n",
       " 'concerns': 11870,\n",
       " 'person': 34893,\n",
       " 'authentic': 6282,\n",
       " 'device': 14859,\n",
       " 'straight': 45075,\n",
       " 'taiwan': 46242,\n",
       " 'thus': 47442,\n",
       " 'taiwanese': 46243,\n",
       " 'shady': 42392,\n",
       " 'opinion': 33303,\n",
       " 'found': 20368,\n",
       " 'brick': 8613,\n",
       " 'gone': 21797,\n",
       " 'sol': 43804,\n",
       " 'empty': 17194,\n",
       " 'envelope': 17530,\n",
       " 'started': 44767,\n",
       " 'figuring': 19616,\n",
       " 'experience': 18696,\n",
       " 'leather': 27582,\n",
       " 'lite': 28147,\n",
       " 'reliable': 39400,\n",
       " 'litter': 28170,\n",
       " 'scrime': 41696,\n",
       " 'frizing': 20638,\n",
       " 'restart': 40056,\n",
       " 'alone': 4596,\n",
       " 'wene': 51568,\n",
       " 'usea': 49911,\n",
       " 'powerful': 36238,\n",
       " 'processor': 36905,\n",
       " 'purchase': 37591,\n",
       " 'delivery': 14346,\n",
       " 'items': 26114,\n",
       " 'meet': 29575,\n",
       " 'advertised': 4036,\n",
       " 'flip': 19998,\n",
       " 'qwerty': 38068,\n",
       " 'line': 28062,\n",
       " 'thanks': 46927,\n",
       " 'junk': 26658,\n",
       " 'strong': 45200,\n",
       " 'restarts': 40061,\n",
       " 'table': 46179,\n",
       " 'rebooting': 38556,\n",
       " 'worse': 52358,\n",
       " 'suddenly': 45473,\n",
       " 'understand': 49130,\n",
       " 'happens': 22881,\n",
       " 'death': 13905,\n",
       " 'continually': 12381,\n",
       " 'telephne': 46628,\n",
       " 'too': 47835,\n",
       " 'connect': 12100,\n",
       " 'lock': 28324,\n",
       " 'neither': 31694,\n",
       " 'knew': 27028,\n",
       " 'might': 30031,\n",
       " 'depend': 14448,\n",
       " 'game': 21142,\n",
       " 'bb': 7202,\n",
       " 'fan': 19150,\n",
       " 'bummer': 8960,\n",
       " 'second': 41822,\n",
       " 'unable': 48950,\n",
       " 'stated': 44788,\n",
       " 'sta100': 44626,\n",
       " 'blk': 8014,\n",
       " 'upgraded': 49735,\n",
       " 'hopefully': 23753,\n",
       " 'inspect': 25290,\n",
       " 'telephones': 46631,\n",
       " 'listing': 28139,\n",
       " 'cards': 9772,\n",
       " 'difficult': 15104,\n",
       " 'pop': 36015,\n",
       " 'store': 45037,\n",
       " 'minutes': 30182,\n",
       " 'activate': 3686,\n",
       " 'connection': 12111,\n",
       " 'backup': 6785,\n",
       " 'tiny': 47607,\n",
       " 'comically': 11410,\n",
       " 'half': 22726,\n",
       " 'project': 37107,\n",
       " 'fi': 19557,\n",
       " 'data': 13724,\n",
       " 'hangouts': 22846,\n",
       " 'integration': 25449,\n",
       " 'sms': 43603,\n",
       " 'hardly': 22923,\n",
       " 'noticeable': 32328,\n",
       " 'functional': 20852,\n",
       " 'cumbersome': 13344,\n",
       " 'probably': 36787,\n",
       " 'emails': 17070,\n",
       " ...}"
      ]
     },
     "execution_count": 23,
     "metadata": {},
     "output_type": "execute_result"
    }
   ],
   "source": [
    "review1.vocabulary_"
   ]
  },
  {
   "cell_type": "code",
   "execution_count": null,
   "metadata": {
    "colab": {
     "base_uri": "https://localhost:8080/"
    },
    "executionInfo": {
     "elapsed": 702,
     "status": "ok",
     "timestamp": 1674560013078,
     "user": {
      "displayName": "Mogana Darshini",
      "userId": "05208473317274135119"
     },
     "user_tz": -480
    },
    "id": "DuJ0IIpEe_xx",
    "outputId": "cb9521c4-ece7-47cd-c1da-d45358e73e25"
   },
   "outputs": [
    {
     "name": "stderr",
     "output_type": "stream",
     "text": [
      "/usr/local/lib/python3.8/dist-packages/sklearn/utils/deprecation.py:87: FutureWarning: Function get_feature_names is deprecated; get_feature_names is deprecated in 1.0 and will be removed in 1.2. Please use get_feature_names_out instead.\n",
      "  warnings.warn(msg, category=FutureWarning)\n"
     ]
    },
    {
     "data": {
      "text/plain": [
       "['00',\n",
       " '000',\n",
       " '0000',\n",
       " '00000',\n",
       " '000000',\n",
       " '0000000',\n",
       " '00000000000',\n",
       " '0000from',\n",
       " '0001',\n",
       " '0004',\n",
       " '000ma',\n",
       " '000mah',\n",
       " '000mh',\n",
       " '000restricted',\n",
       " '0051',\n",
       " '006',\n",
       " '007',\n",
       " '00am',\n",
       " '00bucks',\n",
       " '00for',\n",
       " '00it',\n",
       " '00k',\n",
       " '00now',\n",
       " '00pm',\n",
       " '00x2',\n",
       " '01',\n",
       " '011',\n",
       " '013435003182980',\n",
       " '014',\n",
       " '0155379',\n",
       " '016',\n",
       " '016s',\n",
       " '019s',\n",
       " '02',\n",
       " '02may13',\n",
       " '02mbps',\n",
       " '03',\n",
       " '032g',\n",
       " '0330',\n",
       " '03pm',\n",
       " '04',\n",
       " '0400',\n",
       " '044',\n",
       " '04pm',\n",
       " '04th',\n",
       " '04the',\n",
       " '05',\n",
       " '050',\n",
       " '0500tkx',\n",
       " '050mms',\n",
       " '050prot',\n",
       " '051',\n",
       " '056',\n",
       " '0572013',\n",
       " '0577454',\n",
       " '05788690',\n",
       " '05th',\n",
       " '05the',\n",
       " '05using',\n",
       " '06',\n",
       " '061',\n",
       " '062',\n",
       " '0630',\n",
       " '066',\n",
       " '06pm',\n",
       " '07',\n",
       " '0780',\n",
       " '07am',\n",
       " '07gb',\n",
       " '07nov2015',\n",
       " '08',\n",
       " '0804245',\n",
       " '0808',\n",
       " '0825',\n",
       " '0829',\n",
       " '087',\n",
       " '087581287',\n",
       " '08in',\n",
       " '08mms',\n",
       " '08this',\n",
       " '09',\n",
       " '0909853',\n",
       " '09on',\n",
       " '0_1439_7',\n",
       " '0_150511',\n",
       " '0_print_120716',\n",
       " '0_user_manual',\n",
       " '0a',\n",
       " '0also',\n",
       " '0b3tbzlidhq7dce1bv05qdefaota',\n",
       " '0bj7255rf1f1a1118w65',\n",
       " '0c',\n",
       " '0cant',\n",
       " '0cesqfjad',\n",
       " '0dislikes',\n",
       " '0expandable',\n",
       " '0f',\n",
       " '0ff',\n",
       " '0gb',\n",
       " '0ghz',\n",
       " '0gravity',\n",
       " '0great',\n",
       " '0hd',\n",
       " '0hone',\n",
       " '0i',\n",
       " '0ii',\n",
       " '0in',\n",
       " '0inch',\n",
       " '0inchtype',\n",
       " '0k',\n",
       " '0l',\n",
       " '0lte',\n",
       " '0mb',\n",
       " '0mcc',\n",
       " '0mp',\n",
       " '0mpram',\n",
       " '0mps87ysgrvp9gkhps5d',\n",
       " '0mpthis',\n",
       " '0n',\n",
       " '0r',\n",
       " '0s',\n",
       " '0social',\n",
       " '0stars',\n",
       " '0this',\n",
       " '0ui',\n",
       " '0v',\n",
       " '0well',\n",
       " '0x',\n",
       " '0x1',\n",
       " '0ç',\n",
       " '10',\n",
       " '100',\n",
       " '1000',\n",
       " '10000',\n",
       " '100000',\n",
       " '1000000',\n",
       " '1000000000',\n",
       " '1000000000000000',\n",
       " '10000000x',\n",
       " '10000mah',\n",
       " '1000mah',\n",
       " '1000mhz',\n",
       " '1000s',\n",
       " '1000x',\n",
       " '1001',\n",
       " '1001multi',\n",
       " '1005',\n",
       " '10050',\n",
       " '100cm',\n",
       " '100gb',\n",
       " '100hours',\n",
       " '100k',\n",
       " '100mah',\n",
       " '100mb',\n",
       " '100mbps',\n",
       " '100megs',\n",
       " '100min',\n",
       " '100minutes',\n",
       " '100puntos',\n",
       " '100s',\n",
       " '100th',\n",
       " '100usd',\n",
       " '100v',\n",
       " '100voice',\n",
       " '100x',\n",
       " '101',\n",
       " '1012017',\n",
       " '1016',\n",
       " '102',\n",
       " '1020',\n",
       " '10211',\n",
       " '1022',\n",
       " '1024',\n",
       " '1024ghz',\n",
       " '1024x768',\n",
       " '103',\n",
       " '1030',\n",
       " '10327',\n",
       " '1037',\n",
       " '104',\n",
       " '10400mah',\n",
       " '10454',\n",
       " '1048576k',\n",
       " '105',\n",
       " '1053',\n",
       " '1058',\n",
       " '1059333',\n",
       " '105dbm',\n",
       " '105f',\n",
       " '106',\n",
       " '1060',\n",
       " '10604',\n",
       " '1067',\n",
       " '106gsm',\n",
       " '106miles',\n",
       " '107',\n",
       " '1072',\n",
       " '10728gb',\n",
       " '1073',\n",
       " '108',\n",
       " '1080',\n",
       " '1080hd',\n",
       " '1080i',\n",
       " '1080p',\n",
       " '1080pthe',\n",
       " '1080x1080',\n",
       " '1080x1920',\n",
       " '108dbm',\n",
       " '109',\n",
       " '1092',\n",
       " '1096',\n",
       " '1097',\n",
       " '109model',\n",
       " '10am',\n",
       " '10as',\n",
       " '10audio',\n",
       " '10battery',\n",
       " '10cents',\n",
       " '10d',\n",
       " '10days',\n",
       " '10degrees',\n",
       " '10design',\n",
       " '10disclaimer',\n",
       " '10f',\n",
       " '10ft',\n",
       " '10gb',\n",
       " '10gbs',\n",
       " '10good',\n",
       " '10gps',\n",
       " '10h',\n",
       " '10hours',\n",
       " '10hr',\n",
       " '10hrs',\n",
       " '10i',\n",
       " '10k',\n",
       " '10kms',\n",
       " '10mb',\n",
       " '10mbps',\n",
       " '10mbs',\n",
       " '10megs',\n",
       " '10mgs',\n",
       " '10min',\n",
       " '10mins',\n",
       " '10minute',\n",
       " '10minutes',\n",
       " '10mm',\n",
       " '10mp',\n",
       " '10mts',\n",
       " '10p',\n",
       " '10pm',\n",
       " '10point',\n",
       " '10processor',\n",
       " '10radio',\n",
       " '10s',\n",
       " '10screen',\n",
       " '10sec',\n",
       " '10size',\n",
       " '10so',\n",
       " '10sound',\n",
       " '10speed',\n",
       " '10th',\n",
       " '10the',\n",
       " '10this',\n",
       " '10times',\n",
       " '10touchscreen',\n",
       " '10txt',\n",
       " '10uscw52ena001558',\n",
       " '10w',\n",
       " '10x',\n",
       " '10x10mhz',\n",
       " '10xcons',\n",
       " '10year',\n",
       " '10yo',\n",
       " '10yr',\n",
       " '11',\n",
       " '110',\n",
       " '1100',\n",
       " '11059mem',\n",
       " '1109miami',\n",
       " '110e',\n",
       " '110f',\n",
       " '110mb',\n",
       " '110v',\n",
       " '110w',\n",
       " '111',\n",
       " '11111',\n",
       " '1111111',\n",
       " '1111111111',\n",
       " '1113',\n",
       " '1116',\n",
       " '111display',\n",
       " '112',\n",
       " '1122',\n",
       " '11230',\n",
       " '11230doral',\n",
       " '113',\n",
       " '1130',\n",
       " '1135',\n",
       " '1136',\n",
       " '113mb',\n",
       " '113van',\n",
       " '114',\n",
       " '115',\n",
       " '1150',\n",
       " '1154',\n",
       " '115f',\n",
       " '116',\n",
       " '116mb',\n",
       " '117',\n",
       " '118',\n",
       " '119',\n",
       " '1196220',\n",
       " '119gb',\n",
       " '11ac',\n",
       " '11am',\n",
       " '11available',\n",
       " '11b',\n",
       " '11g',\n",
       " '11gb',\n",
       " '11gdespues',\n",
       " '11h00',\n",
       " '11i',\n",
       " '11nfeaturescon',\n",
       " '11pm',\n",
       " '11s',\n",
       " '11st',\n",
       " '11th',\n",
       " '11the',\n",
       " '11x',\n",
       " '11yeqr',\n",
       " '11yr',\n",
       " '12',\n",
       " '120',\n",
       " '1200',\n",
       " '12000mah',\n",
       " '1200hz',\n",
       " '1200mhz',\n",
       " '1200x1600',\n",
       " '1208',\n",
       " '120fps',\n",
       " '120gbs',\n",
       " '120kbps',\n",
       " '120mb',\n",
       " '120mp',\n",
       " '120sec',\n",
       " '120usd',\n",
       " '120v',\n",
       " '120voltage',\n",
       " '121',\n",
       " '1217asus',\n",
       " '121switch',\n",
       " '1224',\n",
       " '123',\n",
       " '1232',\n",
       " '1234',\n",
       " '12345',\n",
       " '123456',\n",
       " '12393',\n",
       " '124',\n",
       " '124gb',\n",
       " '125',\n",
       " '1254',\n",
       " '12580',\n",
       " '126',\n",
       " '12600',\n",
       " '1260p',\n",
       " '127',\n",
       " '127mb',\n",
       " '128',\n",
       " '1280',\n",
       " '1280x720',\n",
       " '1280x720p',\n",
       " '1280x960',\n",
       " '128g',\n",
       " '128gb',\n",
       " '128gb32gb',\n",
       " '128gbbattery',\n",
       " '128gig',\n",
       " '128gigs',\n",
       " '128k',\n",
       " '128kbps',\n",
       " '128kps',\n",
       " '128mb',\n",
       " '128sd',\n",
       " '129',\n",
       " '12days',\n",
       " '12feb',\n",
       " '12games',\n",
       " '12gb',\n",
       " '12hours',\n",
       " '12hrs',\n",
       " '12hs',\n",
       " '12i',\n",
       " '12mbps',\n",
       " '12mm',\n",
       " '12mn',\n",
       " '12mp',\n",
       " '12mpixel',\n",
       " '12mpx',\n",
       " '12not',\n",
       " '12oz',\n",
       " '12pm',\n",
       " '12rd',\n",
       " '12th',\n",
       " '12x24',\n",
       " '12year',\n",
       " '12yr',\n",
       " '12yrs',\n",
       " '13',\n",
       " '130',\n",
       " '1300',\n",
       " '1300ghz',\n",
       " '1308',\n",
       " '130mb',\n",
       " '130usd',\n",
       " '131',\n",
       " '13125051234would',\n",
       " '131region',\n",
       " '132',\n",
       " '1320',\n",
       " '133',\n",
       " '1334',\n",
       " '133781',\n",
       " '134599',\n",
       " '135',\n",
       " '1351960555',\n",
       " '136',\n",
       " '1365509935',\n",
       " '1366x768',\n",
       " '1369',\n",
       " '137',\n",
       " '137432',\n",
       " '137ppi',\n",
       " '138',\n",
       " '138026',\n",
       " '139',\n",
       " '13after',\n",
       " '13damage',\n",
       " '13gb',\n",
       " '13gbs',\n",
       " '13i',\n",
       " '13just',\n",
       " '13m',\n",
       " '13mb',\n",
       " '13mega',\n",
       " '13megapix',\n",
       " '13megapixal',\n",
       " '13megapixel',\n",
       " '13mp',\n",
       " '13mpix',\n",
       " '13mpx',\n",
       " '13now',\n",
       " '13okay',\n",
       " '13still',\n",
       " '13th',\n",
       " '13the',\n",
       " '13yo',\n",
       " '13yr',\n",
       " '14',\n",
       " '140',\n",
       " '1400',\n",
       " '1400mah',\n",
       " '140lbs',\n",
       " '140mb',\n",
       " '140x176',\n",
       " '1410',\n",
       " '1414',\n",
       " '1417401743',\n",
       " '142',\n",
       " '14234',\n",
       " '1425066960',\n",
       " '1425067051',\n",
       " '1429280147',\n",
       " '143',\n",
       " '1437',\n",
       " '14393',\n",
       " '143f',\n",
       " '144',\n",
       " '1440',\n",
       " '1440p',\n",
       " '1440x2560',\n",
       " '1441193091',\n",
       " '144gb',\n",
       " '145',\n",
       " '1450mah',\n",
       " '1457',\n",
       " '146',\n",
       " '1464776396',\n",
       " '1469458904',\n",
       " '1478550065',\n",
       " '148',\n",
       " '149',\n",
       " '14am',\n",
       " '14bought',\n",
       " '14days',\n",
       " '14for',\n",
       " '14gb',\n",
       " '14hr',\n",
       " '14hrs',\n",
       " '14i',\n",
       " '14mbps',\n",
       " '14mm',\n",
       " '14mp',\n",
       " '14nm',\n",
       " '14phone',\n",
       " '14th',\n",
       " '14x8x7',\n",
       " '14yr',\n",
       " '14yrs',\n",
       " '15',\n",
       " '150',\n",
       " '1500',\n",
       " '1500ma',\n",
       " '1500mah',\n",
       " '1500mhz',\n",
       " '15015',\n",
       " '150ftlb',\n",
       " '150it',\n",
       " '150kb',\n",
       " '150mah',\n",
       " '150mb',\n",
       " '150mbps',\n",
       " '150s60v3',\n",
       " '151',\n",
       " '152',\n",
       " '1520',\n",
       " '153',\n",
       " '1533',\n",
       " '1535',\n",
       " '1536x2048',\n",
       " '154',\n",
       " '1545',\n",
       " '155',\n",
       " '156',\n",
       " '158',\n",
       " '159',\n",
       " '15after',\n",
       " '15at',\n",
       " '15days',\n",
       " '15ended',\n",
       " '15f',\n",
       " '15ft',\n",
       " '15gb',\n",
       " '15gbp',\n",
       " '15had',\n",
       " '15i',\n",
       " '15mbps',\n",
       " '15min',\n",
       " '15mins',\n",
       " '15minutes',\n",
       " '15mis',\n",
       " '15mm',\n",
       " '15mph',\n",
       " '15percent',\n",
       " '15phone',\n",
       " '15pm',\n",
       " '15s',\n",
       " '15so',\n",
       " '15th',\n",
       " '15up',\n",
       " '15updated',\n",
       " '15was',\n",
       " '15yo',\n",
       " '15yr',\n",
       " '15yrs',\n",
       " '16',\n",
       " '160',\n",
       " '1600',\n",
       " '1600x1200',\n",
       " '160412',\n",
       " '160gb',\n",
       " '160x120pxphoto',\n",
       " '161keypad',\n",
       " '162',\n",
       " '1620',\n",
       " '163',\n",
       " '1630',\n",
       " '163972',\n",
       " '164',\n",
       " '1640',\n",
       " '165',\n",
       " '1650',\n",
       " '1650ma',\n",
       " '1650mah',\n",
       " '166',\n",
       " '168',\n",
       " '168th',\n",
       " '169',\n",
       " '16after',\n",
       " '16bg',\n",
       " '16bought',\n",
       " '16dropped',\n",
       " '16fps',\n",
       " '16g',\n",
       " '16gb',\n",
       " '16gb3g',\n",
       " '16gbnow',\n",
       " '16gbpexcellent',\n",
       " '16gbs',\n",
       " '16gig',\n",
       " '16gigs',\n",
       " '16great',\n",
       " '16hrs',\n",
       " '16i',\n",
       " '16just',\n",
       " '16last',\n",
       " '16m',\n",
       " '16mate',\n",
       " '16mb',\n",
       " '16mm',\n",
       " '16mp',\n",
       " '16mplong',\n",
       " '16nm',\n",
       " '16so',\n",
       " '16th',\n",
       " '16the',\n",
       " '16this',\n",
       " '16using',\n",
       " '16well',\n",
       " '16x',\n",
       " '16x9',\n",
       " '16year',\n",
       " '16yesterday',\n",
       " '17',\n",
       " '170',\n",
       " '1700',\n",
       " '1700_2100',\n",
       " '1700mhz',\n",
       " '170bucks',\n",
       " '171',\n",
       " '1717',\n",
       " '171730876692',\n",
       " '172',\n",
       " '1727',\n",
       " '173',\n",
       " '174',\n",
       " '1747',\n",
       " '175',\n",
       " '176',\n",
       " '1762',\n",
       " '177',\n",
       " '17787635',\n",
       " '1779',\n",
       " '179',\n",
       " '17days',\n",
       " '17gb',\n",
       " '17mb',\n",
       " '17min',\n",
       " '17mm',\n",
       " '17th',\n",
       " '17they',\n",
       " '18',\n",
       " '180',\n",
       " '1800',\n",
       " '18002',\n",
       " '1800588889i',\n",
       " '1800mah',\n",
       " '1800mhz',\n",
       " '180can',\n",
       " '180degrees',\n",
       " '181',\n",
       " '181632986587',\n",
       " '181mb',\n",
       " '182',\n",
       " '183',\n",
       " '1835',\n",
       " '184',\n",
       " '1840',\n",
       " '185',\n",
       " '185g',\n",
       " '186',\n",
       " '187',\n",
       " '1871233',\n",
       " '188',\n",
       " '188mb',\n",
       " '189',\n",
       " '18gb',\n",
       " '18h',\n",
       " '18hrs',\n",
       " '18mb',\n",
       " '18mp',\n",
       " '18th',\n",
       " '18x18',\n",
       " '19',\n",
       " '190',\n",
       " '1900',\n",
       " '19003g',\n",
       " '1900ghz',\n",
       " '1900mah',\n",
       " '1900mhz',\n",
       " '1900mhzdata',\n",
       " '1900mhzdigitel',\n",
       " '1900mhzmovilnet',\n",
       " '1900mhzresult',\n",
       " '1900red',\n",
       " '1900wcdma',\n",
       " '1905',\n",
       " '191',\n",
       " '192',\n",
       " '1920',\n",
       " '1920x1080',\n",
       " '1920x1080p',\n",
       " '1920x1200',\n",
       " '19220',\n",
       " '193',\n",
       " '193was',\n",
       " '1940',\n",
       " '1940s',\n",
       " '1946087',\n",
       " '195',\n",
       " '19505',\n",
       " '1952',\n",
       " '196',\n",
       " '1960',\n",
       " '1965',\n",
       " '1968',\n",
       " '1969',\n",
       " '196ppi',\n",
       " '197',\n",
       " '1970',\n",
       " '1972',\n",
       " '197328640',\n",
       " '1974',\n",
       " '1978',\n",
       " '1979i',\n",
       " '198',\n",
       " '1980',\n",
       " '1980s',\n",
       " '1983',\n",
       " '1984',\n",
       " '1988',\n",
       " '1989',\n",
       " '199',\n",
       " '1990',\n",
       " '1990s',\n",
       " '1992',\n",
       " '1993',\n",
       " '1995',\n",
       " '1996',\n",
       " '1998',\n",
       " '1999',\n",
       " '199but',\n",
       " '19down',\n",
       " '19th',\n",
       " '19thth',\n",
       " '1_10',\n",
       " '1_st_s960_baralajbithis',\n",
       " '1a',\n",
       " '1adac',\n",
       " '1algunos',\n",
       " '1android',\n",
       " '1b',\n",
       " '1bar',\n",
       " '1big',\n",
       " '1bn',\n",
       " '1build',\n",
       " '1c',\n",
       " '1camera',\n",
       " '1cents',\n",
       " '1ch',\n",
       " '1cm',\n",
       " '1cons',\n",
       " '1cpu',\n",
       " '1d',\n",
       " '1day',\n",
       " '1era',\n",
       " '1ero',\n",
       " '1ft',\n",
       " '1g',\n",
       " '1gb',\n",
       " '1gb4',\n",
       " '1gbcpu',\n",
       " '1gh',\n",
       " '1ghz',\n",
       " '1gig',\n",
       " '1h',\n",
       " '1hoir',\n",
       " '1hour',\n",
       " '1hr',\n",
       " '1i',\n",
       " '1inch',\n",
       " '1it',\n",
       " '1just',\n",
       " '1k',\n",
       " '1kb',\n",
       " '1km',\n",
       " '1lollipop',\n",
       " '1m',\n",
       " '1mb',\n",
       " '1mbps',\n",
       " '1min',\n",
       " '1minute',\n",
       " '1mm',\n",
       " '1mo',\n",
       " '1mobile',\n",
       " '1month',\n",
       " '1mp',\n",
       " '1mt',\n",
       " '1my',\n",
       " '1nce',\n",
       " '1of',\n",
       " '1official',\n",
       " '1once',\n",
       " '1oo',\n",
       " '1packet',\n",
       " '1password',\n",
       " '1pm',\n",
       " '1power',\n",
       " '1quad',\n",
       " '1resolution',\n",
       " '1rs',\n",
       " '1rst',\n",
       " '1s',\n",
       " '1service',\n",
       " '1sim',\n",
       " '1simultaneously',\n",
       " '1st',\n",
       " '1star',\n",
       " '1the',\n",
       " '1this',\n",
       " '1to',\n",
       " '1updateafter',\n",
       " '1v',\n",
       " '1we',\n",
       " '1week',\n",
       " '1who',\n",
       " '1with',\n",
       " '1x',\n",
       " '1y',\n",
       " '1year',\n",
       " '1yr',\n",
       " '1ze13a030280162940best',\n",
       " '20',\n",
       " '200',\n",
       " '2000',\n",
       " '2000ma',\n",
       " '2000mah',\n",
       " '2000s',\n",
       " '2001',\n",
       " '2002',\n",
       " '2002my',\n",
       " '2003',\n",
       " '2004',\n",
       " '2005',\n",
       " '2005if',\n",
       " '2006',\n",
       " '2007',\n",
       " '2008',\n",
       " '2008i',\n",
       " '2008ish',\n",
       " '2009',\n",
       " '20099',\n",
       " '2009well',\n",
       " '200buks',\n",
       " '200g',\n",
       " '200gb',\n",
       " '200gbbrowsing',\n",
       " '200great',\n",
       " '200ish',\n",
       " '200kbs',\n",
       " '200looks',\n",
       " '200mb',\n",
       " '200mbps',\n",
       " '200meg',\n",
       " '200min',\n",
       " '200smooth',\n",
       " '200sqft',\n",
       " '200the',\n",
       " '200this',\n",
       " '200usd',\n",
       " '201',\n",
       " '2010',\n",
       " '2010ish',\n",
       " '2011',\n",
       " '2011a',\n",
       " '2011and',\n",
       " '2011i',\n",
       " '2011right',\n",
       " '2012',\n",
       " '2012another',\n",
       " '2012dial',\n",
       " '2012i',\n",
       " '2012ish',\n",
       " '2012it',\n",
       " '2012symbian',\n",
       " '2013',\n",
       " '2013a',\n",
       " '2013have',\n",
       " '2013hello',\n",
       " '2013i',\n",
       " '2013it',\n",
       " '2013my',\n",
       " '2013new',\n",
       " '2013ok',\n",
       " '2013phone',\n",
       " '2013received',\n",
       " '2013still',\n",
       " '2013t',\n",
       " '2013update',\n",
       " '2013well',\n",
       " '2014',\n",
       " '20140825134330',\n",
       " '2014after',\n",
       " '2014an',\n",
       " '2014as',\n",
       " '2014beeped',\n",
       " '2014have',\n",
       " '2014i',\n",
       " '2014it',\n",
       " '2014the',\n",
       " '2014well',\n",
       " '2014øhoward',\n",
       " '2015',\n",
       " '201505',\n",
       " '20150511132052841',\n",
       " '2015after',\n",
       " '2015as',\n",
       " '2015battery',\n",
       " '2015don',\n",
       " '2015i',\n",
       " '2015it',\n",
       " '2015my',\n",
       " '2015okay',\n",
       " '2015order',\n",
       " '2015phone',\n",
       " '2015straight',\n",
       " '2015the',\n",
       " '2015track',\n",
       " '2016',\n",
       " '20161',\n",
       " '2016after',\n",
       " '2016anker',\n",
       " '2016can',\n",
       " '2016changed',\n",
       " '2016edit',\n",
       " '2016first',\n",
       " '2016for',\n",
       " '2016heard',\n",
       " '2016i',\n",
       " '2016just',\n",
       " '2016my',\n",
       " '2016ok',\n",
       " '2016one',\n",
       " '2016rating',\n",
       " '2016received',\n",
       " '2016regarding',\n",
       " '2016removable',\n",
       " '2016samsung',\n",
       " '2016sent',\n",
       " '2016so',\n",
       " '2016stamina',\n",
       " '2016the',\n",
       " '2016this',\n",
       " '2016tl',\n",
       " '2016to',\n",
       " '2016tried',\n",
       " '2016was',\n",
       " '2016well',\n",
       " '2017',\n",
       " '2018',\n",
       " '202',\n",
       " '2020',\n",
       " '2025',\n",
       " '203',\n",
       " '2039',\n",
       " '204',\n",
       " '2043',\n",
       " '2048those',\n",
       " '2048x1536',\n",
       " '205',\n",
       " '2050',\n",
       " '2050mah',\n",
       " '206',\n",
       " '2060',\n",
       " '207',\n",
       " '2070',\n",
       " '20781',\n",
       " '207r',\n",
       " '209',\n",
       " '20also',\n",
       " '20am',\n",
       " '20fps',\n",
       " '20ft',\n",
       " '20g',\n",
       " '20gb',\n",
       " '20hours',\n",
       " '20hrs',\n",
       " '20ish',\n",
       " '20mbps',\n",
       " '20mbs',\n",
       " '20min',\n",
       " '20mins',\n",
       " '20minutes',\n",
       " '20mis',\n",
       " '20mp',\n",
       " '20pm',\n",
       " '20received',\n",
       " '20s',\n",
       " '20th',\n",
       " '20us',\n",
       " ...]"
      ]
     },
     "execution_count": 67,
     "metadata": {},
     "output_type": "execute_result"
    }
   ],
   "source": [
    "review1.get_feature_names()"
   ]
  },
  {
   "cell_type": "markdown",
   "metadata": {
    "id": "gYYknFtRaPB3"
   },
   "source": [
    "# Logistic Regression classification\n",
    "\n",
    "We will train a logistic regression model to classify the  Amazon reviews into positive and negative reviews by using feature matrix. "
   ]
  },
  {
   "cell_type": "code",
   "execution_count": 24,
   "metadata": {
    "colab": {
     "base_uri": "https://localhost:8080/"
    },
    "executionInfo": {
     "elapsed": 15464,
     "status": "ok",
     "timestamp": 1674785183623,
     "user": {
      "displayName": "Mogana Darshini",
      "userId": "05208473317274135119"
     },
     "user_tz": -480
    },
    "id": "OWMRQl5MaPB3",
    "outputId": "40984bfc-97dd-4f96-f19d-4ee14360f63a",
    "scrolled": true
   },
   "outputs": [
    {
     "name": "stderr",
     "output_type": "stream",
     "text": [
      "C:\\ProgramData\\Anaconda3\\lib\\site-packages\\sklearn\\linear_model\\_logistic.py:814: ConvergenceWarning: lbfgs failed to converge (status=1):\n",
      "STOP: TOTAL NO. of ITERATIONS REACHED LIMIT.\n",
      "\n",
      "Increase the number of iterations (max_iter) or scale the data as shown in:\n",
      "    https://scikit-learn.org/stable/modules/preprocessing.html\n",
      "Please also refer to the documentation for alternative solver options:\n",
      "    https://scikit-learn.org/stable/modules/linear_model.html#logistic-regression\n",
      "  n_iter_i = _check_optimize_result(\n"
     ]
    },
    {
     "data": {
      "text/plain": [
       "LogisticRegression()"
      ]
     },
     "execution_count": 24,
     "metadata": {},
     "output_type": "execute_result"
    }
   ],
   "source": [
    "from sklearn.linear_model import LogisticRegression\n",
    "\n",
    "# Train the model\n",
    "model = LogisticRegression()\n",
    "model.fit(X_train_vectorized1, y_train)\n",
    "\n",
    "#x_train\n",
    "#vectors (unique tokens)"
   ]
  },
  {
   "cell_type": "code",
   "execution_count": 25,
   "metadata": {
    "colab": {
     "base_uri": "https://localhost:8080/"
    },
    "executionInfo": {
     "elapsed": 5238,
     "status": "ok",
     "timestamp": 1674785610986,
     "user": {
      "displayName": "Mogana Darshini",
      "userId": "05208473317274135119"
     },
     "user_tz": -480
    },
    "id": "z703rRK0aPB3",
    "outputId": "ae273cf0-4981-4fae-b7ad-f71ceb6e8803"
   },
   "outputs": [
    {
     "name": "stdout",
     "output_type": "stream",
     "text": [
      "AUC:  0.9750933673031394\n"
     ]
    }
   ],
   "source": [
    "from sklearn.metrics import roc_auc_score\n",
    "\n",
    "# Predict the transformed test documents\n",
    "predictions = model.predict(review1.transform(X_test))\n",
    "y_proba = model.predict_proba(review1.transform(X_test))\n",
    "                              \n",
    "print('AUC: ', roc_auc_score(y_test, y_proba[:,1]))       "
   ]
  },
  {
   "cell_type": "code",
   "execution_count": 27,
   "metadata": {
    "colab": {
     "base_uri": "https://localhost:8080/"
    },
    "executionInfo": {
     "elapsed": 478,
     "status": "ok",
     "timestamp": 1674785791435,
     "user": {
      "displayName": "Mogana Darshini",
      "userId": "05208473317274135119"
     },
     "user_tz": -480
    },
    "id": "bE7Wo7CQaPB3",
    "outputId": "e6a75d80-741d-4910-d88b-5ee9fdab6083"
   },
   "outputs": [
    {
     "data": {
      "text/plain": [
       "array([[-0.92874463, -0.17081246,  0.01935562, ...,  0.10821892,\n",
       "         0.08218676,  0.08218676]])"
      ]
     },
     "execution_count": 27,
     "metadata": {},
     "output_type": "execute_result"
    }
   ],
   "source": [
    "model.coef_"
   ]
  },
  {
   "cell_type": "code",
   "execution_count": 28,
   "metadata": {
    "colab": {
     "base_uri": "https://localhost:8080/"
    },
    "executionInfo": {
     "elapsed": 478,
     "status": "ok",
     "timestamp": 1674785809630,
     "user": {
      "displayName": "Mogana Darshini",
      "userId": "05208473317274135119"
     },
     "user_tz": -480
    },
    "id": "JfIS0DizaPB3",
    "outputId": "1112a7ea-37e9-43fe-eac4-9e910042fd57"
   },
   "outputs": [
    {
     "data": {
      "text/plain": [
       "array([52365, 26658, 21201, ..., 18482, 18306, 18305], dtype=int64)"
      ]
     },
     "execution_count": 28,
     "metadata": {},
     "output_type": "execute_result"
    }
   ],
   "source": [
    "model.coef_[0].argsort()"
   ]
  },
  {
   "cell_type": "code",
   "execution_count": 30,
   "metadata": {
    "colab": {
     "base_uri": "https://localhost:8080/"
    },
    "executionInfo": {
     "elapsed": 475,
     "status": "ok",
     "timestamp": 1674785988118,
     "user": {
      "displayName": "Mogana Darshini",
      "userId": "05208473317274135119"
     },
     "user_tz": -480
    },
    "id": "q52znCbAaPB4",
    "outputId": "c7171a52-cfb0-4eb0-90a1-c9bac3d70b8e"
   },
   "outputs": [
    {
     "name": "stdout",
     "output_type": "stream",
     "text": [
      "Smallest Coefs:\n",
      "['worst' 'junk' 'garbage' 'unusable' 'useless' 'waste' 'freezes'\n",
      " 'terrible' 'horrible' 'awful']\n",
      "\n",
      " Largest Coefs:\n",
      "['excelent' 'excelente' 'exelente' 'loves' 'excellent' 'loving' 'perfecto'\n",
      " 'complaints' 'minor' 'fantastic']\n"
     ]
    }
   ],
   "source": [
    "# get the feature names as numpy array\n",
    "feature_names = np.array(review1.get_feature_names_out())\n",
    "\n",
    "# Sort the coefficients from the model\n",
    "sorted_coef_index = model.coef_[0].argsort()\n",
    "\n",
    "# Find the 10 smallest and 10 largest coefficients\n",
    "print('Smallest Coefs:' )\n",
    "print(feature_names[sorted_coef_index[:10]])\n",
    "      \n",
    "print('\\n Largest Coefs:')      \n",
    "print(feature_names[sorted_coef_index[:-11:-1]])"
   ]
  },
  {
   "cell_type": "markdown",
   "metadata": {
    "id": "ftldq31XaPB4"
   },
   "source": [
    "# Tfidf\n",
    "\n",
    "When we are analyzing text data, we often encounter words that occur across multiple documents from both classes. Those frequently occurring words typically don't contain useful or discriminatory information. In this subsection, we will learn about a useful technique called **term frequency-inverse document frequency** (*tf-idf*) that can be used to downweight those frequently occurring words in the feature vectors. On the other words by tf-idf we can reduce the weightage of more common words like (the, is, an etc.) which occurs in all document.\n",
    "\n",
    "The *tf-idf* can be defined as the product of the term frequency and the inverse document frequency:\n",
    "\n",
    "\\begin{align}\n",
    "\\textit{tf-idf}(t,d) = tf(t,d) \\times idf(t,d)\n",
    "\\end{align}\n",
    "\n",
    "Here the <font color=green><b> *tf(t,d)* </b></font> is the term frequency that equal to **Count of word / Total words, in each document**. The inverse document frequency *idf(t,d)* can be calculated as:\n",
    "\n",
    "\\begin{align}\n",
    "idf(t,d) = log\\frac{n_d}{\\text{df(d,t)}}\n",
    "\\end{align}\n",
    "\n",
    "where <font color=green><b> $n_d$ </b></font> is **the total number of documents**, and <font color=green><b>*df(d,t)*</b></font> is **the number of documents *d* that contain the term t**. Note that the log is used to ensure that low document frequencies are not given too much weight.\n",
    "\n",
    "\n",
    "scikit-learn implements yet another vectorizer, the TfidfVectorizer, that creates feature vectors as tf-idfs.\n"
   ]
  },
  {
   "cell_type": "code",
   "execution_count": null,
   "metadata": {
    "id": "ifySXyFDaPB4"
   },
   "outputs": [],
   "source": [
    "from sklearn.feature_extraction.text import TfidfVectorizer\n",
    "\n",
    "\n",
    "docs = np.array([\n",
    "    'The sun is shining',\n",
    "    'The weather is sweet',\n",
    "    'The sun is shining and the weather is sweet'])\n",
    "\n",
    "vect2 = TfidfVectorizer().fit(docs)\n",
    "bag2 = vect2.transform(docs)"
   ]
  },
  {
   "cell_type": "code",
   "execution_count": 32,
   "metadata": {
    "id": "f6BhOjA4aPB5"
   },
   "outputs": [],
   "source": [
    "from sklearn.feature_extraction.text import TfidfVectorizer\n",
    "\n",
    "# Fit the TfidfVectorizer to the training data \n",
    "review2 = TfidfVectorizer(min_df=5).fit(X_train) #raw unique tokens"
   ]
  },
  {
   "cell_type": "code",
   "execution_count": 33,
   "metadata": {
    "colab": {
     "base_uri": "https://localhost:8080/"
    },
    "executionInfo": {
     "elapsed": 822,
     "status": "ok",
     "timestamp": 1674786521638,
     "user": {
      "displayName": "Mogana Darshini",
      "userId": "05208473317274135119"
     },
     "user_tz": -480
    },
    "id": "5VDPdQn0aPB5",
    "outputId": "723a702a-c66c-47d8-dd35-d4adec06e7cb"
   },
   "outputs": [
    {
     "data": {
      "text/plain": [
       "18025"
      ]
     },
     "execution_count": 33,
     "metadata": {},
     "output_type": "execute_result"
    }
   ],
   "source": [
    "len(review2.get_feature_names())"
   ]
  },
  {
   "cell_type": "code",
   "execution_count": 34,
   "metadata": {
    "colab": {
     "base_uri": "https://localhost:8080/"
    },
    "executionInfo": {
     "elapsed": 22390,
     "status": "ok",
     "timestamp": 1674786684717,
     "user": {
      "displayName": "Mogana Darshini",
      "userId": "05208473317274135119"
     },
     "user_tz": -480
    },
    "id": "bm0kepemaPB5",
    "outputId": "cca03f36-ebfe-4870-fb7c-424b3aa550b5"
   },
   "outputs": [
    {
     "name": "stderr",
     "output_type": "stream",
     "text": [
      "C:\\ProgramData\\Anaconda3\\lib\\site-packages\\sklearn\\linear_model\\_logistic.py:814: ConvergenceWarning: lbfgs failed to converge (status=1):\n",
      "STOP: TOTAL NO. of ITERATIONS REACHED LIMIT.\n",
      "\n",
      "Increase the number of iterations (max_iter) or scale the data as shown in:\n",
      "    https://scikit-learn.org/stable/modules/preprocessing.html\n",
      "Please also refer to the documentation for alternative solver options:\n",
      "    https://scikit-learn.org/stable/modules/linear_model.html#logistic-regression\n",
      "  n_iter_i = _check_optimize_result(\n"
     ]
    },
    {
     "name": "stdout",
     "output_type": "stream",
     "text": [
      "AUC:  0.98255131869347\n"
     ]
    }
   ],
   "source": [
    "X_train_vectorized2 = review2.transform(X_train) #unique tokens in vector format\n",
    "\n",
    "model = LogisticRegression()\n",
    "model.fit(X_train_vectorized2, y_train)\n",
    "\n",
    "predictions = model.predict(review2.transform(X_test))\n",
    "y_proba = model.predict_proba(review2.transform(X_test))\n",
    "                              \n",
    "print('AUC: ', roc_auc_score(y_test, y_proba[:,1])) "
   ]
  },
  {
   "cell_type": "markdown",
   "metadata": {
    "id": "e2tw4RCgaPB6"
   },
   "source": [
    "## <font color=green> Exercise B</font> \n",
    "- Predict two below reviews as negative or positive using our model: \n",
    "\n",
    "      ['no an issue, phone is working', 'an issue, phone is not working']       "
   ]
  },
  {
   "cell_type": "code",
   "execution_count": null,
   "metadata": {
    "colab": {
     "base_uri": "https://localhost:8080/"
    },
    "executionInfo": {
     "elapsed": 492,
     "status": "ok",
     "timestamp": 1674786866017,
     "user": {
      "displayName": "Mogana Darshini",
      "userId": "05208473317274135119"
     },
     "user_tz": -480
    },
    "id": "VT-8X9yeaPB6",
    "outputId": "aaa88485-5a2f-41f8-8834-122db43f3d34"
   },
   "outputs": [
    {
     "data": {
      "text/plain": [
       "array([1, 0])"
      ]
     },
     "execution_count": 32,
     "metadata": {},
     "output_type": "execute_result"
    }
   ],
   "source": [
    "model.predict(review2.transform(['amazing, phone is working', 'an issue, phone is not working']))"
   ]
  },
  {
   "cell_type": "markdown",
   "metadata": {
    "id": "q0K2-johivSY"
   },
   "source": [
    "Try this!"
   ]
  },
  {
   "cell_type": "code",
   "execution_count": null,
   "metadata": {
    "colab": {
     "base_uri": "https://localhost:8080/"
    },
    "executionInfo": {
     "elapsed": 473,
     "status": "ok",
     "timestamp": 1674786930113,
     "user": {
      "displayName": "Mogana Darshini",
      "userId": "05208473317274135119"
     },
     "user_tz": -480
    },
    "id": "V-B4bLTriuCh",
    "outputId": "8fba7e6b-8ee2-40e0-cddf-862ab44af0ca"
   },
   "outputs": [
    {
     "data": {
      "text/plain": [
       "array([0, 0])"
      ]
     },
     "execution_count": 33,
     "metadata": {},
     "output_type": "execute_result"
    }
   ],
   "source": [
    "model.predict(review2.transform(['no an issue, phone is working','an issue, phone is not working']))"
   ]
  },
  {
   "cell_type": "markdown",
   "metadata": {
    "id": "6KtILNIfaPB6"
   },
   "source": [
    "# n-grams\n",
    "\n",
    "The sequence of items in the bag-of-words model that we just created is also called the 1-gram or unigram model — each item or token in the vocabulary represents a single word. Generally, <b>the contiguous sequences of items in NLP</b> — words, letters, or symbols— is also called an n-gram. The choice of the number n in the n-gram model depends on the particular application. For instance, spam filtering applications tend to use n=3 or n=4 for good performances.\n",
    "To summarize the concept of the n-gram representation, the 1-gram and 2-gram representations of our first document \"the sun is shining\" would be constructed as follows:\n",
    "- 1-gram: \"the\", \"sun\", \"is\", \"shining\"\n",
    "- 2-gram: \"the sun\", \"sun is\", \"is shining\"\n",
    "\n",
    "The CountVectorizer class in scikit-learn allows us to use different n-gram models via its ngram_range parameter. By default, it uses a 1-gram representation."
   ]
  },
  {
   "cell_type": "code",
   "execution_count": null,
   "metadata": {
    "id": "7umB29FuaPB7"
   },
   "outputs": [],
   "source": [
    "# Try 2-gram representation\n",
    "docs = np.array([\n",
    "    'The sun is shining',\n",
    "    'The weather is sweet',\n",
    "    'The sun is shining and the weather is sweet'])\n",
    "\n",
    "vect3=CountVectorizer(ngram_range=(1,2)).fit(docs)\n",
    "bag3=vect3.transform(docs)"
   ]
  },
  {
   "cell_type": "code",
   "execution_count": null,
   "metadata": {
    "colab": {
     "base_uri": "https://localhost:8080/"
    },
    "executionInfo": {
     "elapsed": 477,
     "status": "ok",
     "timestamp": 1674787144004,
     "user": {
      "displayName": "Mogana Darshini",
      "userId": "05208473317274135119"
     },
     "user_tz": -480
    },
    "id": "Kw1nfVgNaPB7",
    "outputId": "6b0ceea2-334b-4d50-f6c5-b28760a16e86"
   },
   "outputs": [
    {
     "data": {
      "text/plain": [
       "{'the': 10,\n",
       " 'sun': 7,\n",
       " 'is': 2,\n",
       " 'shining': 5,\n",
       " 'the sun': 11,\n",
       " 'sun is': 8,\n",
       " 'is shining': 3,\n",
       " 'weather': 13,\n",
       " 'sweet': 9,\n",
       " 'the weather': 12,\n",
       " 'weather is': 14,\n",
       " 'is sweet': 4,\n",
       " 'and': 0,\n",
       " 'shining and': 6,\n",
       " 'and the': 1}"
      ]
     },
     "execution_count": 35,
     "metadata": {},
     "output_type": "execute_result"
    }
   ],
   "source": [
    "vect3.vocabulary_"
   ]
  },
  {
   "cell_type": "code",
   "execution_count": 35,
   "metadata": {
    "id": "hb0Dbd3uaPB7"
   },
   "outputs": [],
   "source": [
    "review3 = CountVectorizer(min_df=5, ngram_range=(1,2)).fit(X_train) #raw unique tokens\n",
    "\n",
    "X_train_vectorized3 = review3.transform(X_train) #vectorized unique tokens"
   ]
  },
  {
   "cell_type": "code",
   "execution_count": 36,
   "metadata": {
    "colab": {
     "base_uri": "https://localhost:8080/"
    },
    "executionInfo": {
     "elapsed": 820,
     "status": "ok",
     "timestamp": 1674787447157,
     "user": {
      "displayName": "Mogana Darshini",
      "userId": "05208473317274135119"
     },
     "user_tz": -480
    },
    "id": "BM-2pfZbaPB7",
    "outputId": "d9f39dea-25ed-4bca-f45b-2dbb05e5f821"
   },
   "outputs": [
    {
     "name": "stderr",
     "output_type": "stream",
     "text": [
      "C:\\ProgramData\\Anaconda3\\lib\\site-packages\\sklearn\\utils\\deprecation.py:87: FutureWarning: Function get_feature_names is deprecated; get_feature_names is deprecated in 1.0 and will be removed in 1.2. Please use get_feature_names_out instead.\n",
      "  warnings.warn(msg, category=FutureWarning)\n"
     ]
    },
    {
     "data": {
      "text/plain": [
       "201035"
      ]
     },
     "execution_count": 36,
     "metadata": {},
     "output_type": "execute_result"
    }
   ],
   "source": [
    "len(review3.get_feature_names())"
   ]
  },
  {
   "cell_type": "code",
   "execution_count": 37,
   "metadata": {
    "colab": {
     "base_uri": "https://localhost:8080/"
    },
    "executionInfo": {
     "elapsed": 35263,
     "status": "ok",
     "timestamp": 1674787530318,
     "user": {
      "displayName": "Mogana Darshini",
      "userId": "05208473317274135119"
     },
     "user_tz": -480
    },
    "id": "Y6aX9kuTaPB8",
    "outputId": "155fc8da-059a-42da-c88d-a65c8593224c"
   },
   "outputs": [
    {
     "name": "stderr",
     "output_type": "stream",
     "text": [
      "C:\\ProgramData\\Anaconda3\\lib\\site-packages\\sklearn\\linear_model\\_logistic.py:814: ConvergenceWarning: lbfgs failed to converge (status=1):\n",
      "STOP: TOTAL NO. of ITERATIONS REACHED LIMIT.\n",
      "\n",
      "Increase the number of iterations (max_iter) or scale the data as shown in:\n",
      "    https://scikit-learn.org/stable/modules/preprocessing.html\n",
      "Please also refer to the documentation for alternative solver options:\n",
      "    https://scikit-learn.org/stable/modules/linear_model.html#logistic-regression\n",
      "  n_iter_i = _check_optimize_result(\n"
     ]
    },
    {
     "name": "stdout",
     "output_type": "stream",
     "text": [
      "AUC:  0.9891133896935007\n"
     ]
    }
   ],
   "source": [
    "model = LogisticRegression()\n",
    "model.fit(X_train_vectorized3, y_train)\n",
    "\n",
    "predictions = model.predict(review3.transform(X_test))\n",
    "y_proba = model.predict_proba(review3.transform(X_test))\n",
    "                              \n",
    "print('AUC: ', roc_auc_score(y_test, y_proba[:,1])) "
   ]
  },
  {
   "cell_type": "code",
   "execution_count": 38,
   "metadata": {
    "colab": {
     "base_uri": "https://localhost:8080/"
    },
    "executionInfo": {
     "elapsed": 592,
     "status": "ok",
     "timestamp": 1674787711984,
     "user": {
      "displayName": "Mogana Darshini",
      "userId": "05208473317274135119"
     },
     "user_tz": -480
    },
    "id": "WDKLImajaPB8",
    "outputId": "06df62f0-4afb-4e8b-87ae-0ddf0c6b8d7f"
   },
   "outputs": [
    {
     "name": "stdout",
     "output_type": "stream",
     "text": [
      "Smallest Coefs:\n",
      "['no good' 'not satisfied' 'not happy' 'not worth' 'worst' 'garbage'\n",
      " 'junk' 'not good' 'at best' 'nope']\n",
      "\n",
      " Largest Coefs:\n",
      "['excelent' 'excelente' 'not bad' 'excellent' 'exelente' 'perfect'\n",
      " 'awesome' 'no issues' 'perfecto' 'great']\n"
     ]
    },
    {
     "name": "stderr",
     "output_type": "stream",
     "text": [
      "C:\\ProgramData\\Anaconda3\\lib\\site-packages\\sklearn\\utils\\deprecation.py:87: FutureWarning: Function get_feature_names is deprecated; get_feature_names is deprecated in 1.0 and will be removed in 1.2. Please use get_feature_names_out instead.\n",
      "  warnings.warn(msg, category=FutureWarning)\n"
     ]
    }
   ],
   "source": [
    "feature_names = np.array(review3.get_feature_names())\n",
    "\n",
    "sorted_coef_index = model.coef_[0].argsort()\n",
    "\n",
    "print('Smallest Coefs:' )\n",
    "print(feature_names[sorted_coef_index[:10]])\n",
    "      \n",
    "print('\\n Largest Coefs:')      \n",
    "print(feature_names[sorted_coef_index[:-11:-1]])"
   ]
  },
  {
   "cell_type": "code",
   "execution_count": 39,
   "metadata": {
    "colab": {
     "base_uri": "https://localhost:8080/"
    },
    "executionInfo": {
     "elapsed": 485,
     "status": "ok",
     "timestamp": 1674787784504,
     "user": {
      "displayName": "Mogana Darshini",
      "userId": "05208473317274135119"
     },
     "user_tz": -480
    },
    "id": "tzFJo9ERaPB9",
    "outputId": "73e84529-c269-4e21-c2cc-19088a75eb4c"
   },
   "outputs": [
    {
     "ename": "ValueError",
     "evalue": "X has 53301 features, but LogisticRegression is expecting 201035 features as input.",
     "output_type": "error",
     "traceback": [
      "\u001b[1;31m---------------------------------------------------------------------------\u001b[0m",
      "\u001b[1;31mValueError\u001b[0m                                Traceback (most recent call last)",
      "\u001b[1;32m~\\AppData\\Local\\Temp\\ipykernel_3836\\3225184347.py\u001b[0m in \u001b[0;36m<module>\u001b[1;34m\u001b[0m\n\u001b[0;32m      1\u001b[0m \u001b[1;31m# These reviews are now correctly identified\u001b[0m\u001b[1;33m\u001b[0m\u001b[1;33m\u001b[0m\u001b[0m\n\u001b[1;32m----> 2\u001b[1;33m print(model.predict(review1.transform(['no an issue, phone is working',\n\u001b[0m\u001b[0;32m      3\u001b[0m                                     'an issue, phone is not working'])))\n",
      "\u001b[1;32mC:\\ProgramData\\Anaconda3\\lib\\site-packages\\sklearn\\linear_model\\_base.py\u001b[0m in \u001b[0;36mpredict\u001b[1;34m(self, X)\u001b[0m\n\u001b[0;32m    423\u001b[0m             \u001b[0mVector\u001b[0m \u001b[0mcontaining\u001b[0m \u001b[0mthe\u001b[0m \u001b[1;32mclass\u001b[0m \u001b[0mlabels\u001b[0m \u001b[1;32mfor\u001b[0m \u001b[0meach\u001b[0m \u001b[0msample\u001b[0m\u001b[1;33m.\u001b[0m\u001b[1;33m\u001b[0m\u001b[1;33m\u001b[0m\u001b[0m\n\u001b[0;32m    424\u001b[0m         \"\"\"\n\u001b[1;32m--> 425\u001b[1;33m         \u001b[0mscores\u001b[0m \u001b[1;33m=\u001b[0m \u001b[0mself\u001b[0m\u001b[1;33m.\u001b[0m\u001b[0mdecision_function\u001b[0m\u001b[1;33m(\u001b[0m\u001b[0mX\u001b[0m\u001b[1;33m)\u001b[0m\u001b[1;33m\u001b[0m\u001b[1;33m\u001b[0m\u001b[0m\n\u001b[0m\u001b[0;32m    426\u001b[0m         \u001b[1;32mif\u001b[0m \u001b[0mlen\u001b[0m\u001b[1;33m(\u001b[0m\u001b[0mscores\u001b[0m\u001b[1;33m.\u001b[0m\u001b[0mshape\u001b[0m\u001b[1;33m)\u001b[0m \u001b[1;33m==\u001b[0m \u001b[1;36m1\u001b[0m\u001b[1;33m:\u001b[0m\u001b[1;33m\u001b[0m\u001b[1;33m\u001b[0m\u001b[0m\n\u001b[0;32m    427\u001b[0m             \u001b[0mindices\u001b[0m \u001b[1;33m=\u001b[0m \u001b[1;33m(\u001b[0m\u001b[0mscores\u001b[0m \u001b[1;33m>\u001b[0m \u001b[1;36m0\u001b[0m\u001b[1;33m)\u001b[0m\u001b[1;33m.\u001b[0m\u001b[0mastype\u001b[0m\u001b[1;33m(\u001b[0m\u001b[0mint\u001b[0m\u001b[1;33m)\u001b[0m\u001b[1;33m\u001b[0m\u001b[1;33m\u001b[0m\u001b[0m\n",
      "\u001b[1;32mC:\\ProgramData\\Anaconda3\\lib\\site-packages\\sklearn\\linear_model\\_base.py\u001b[0m in \u001b[0;36mdecision_function\u001b[1;34m(self, X)\u001b[0m\n\u001b[0;32m    405\u001b[0m         \u001b[0mcheck_is_fitted\u001b[0m\u001b[1;33m(\u001b[0m\u001b[0mself\u001b[0m\u001b[1;33m)\u001b[0m\u001b[1;33m\u001b[0m\u001b[1;33m\u001b[0m\u001b[0m\n\u001b[0;32m    406\u001b[0m \u001b[1;33m\u001b[0m\u001b[0m\n\u001b[1;32m--> 407\u001b[1;33m         \u001b[0mX\u001b[0m \u001b[1;33m=\u001b[0m \u001b[0mself\u001b[0m\u001b[1;33m.\u001b[0m\u001b[0m_validate_data\u001b[0m\u001b[1;33m(\u001b[0m\u001b[0mX\u001b[0m\u001b[1;33m,\u001b[0m \u001b[0maccept_sparse\u001b[0m\u001b[1;33m=\u001b[0m\u001b[1;34m\"csr\"\u001b[0m\u001b[1;33m,\u001b[0m \u001b[0mreset\u001b[0m\u001b[1;33m=\u001b[0m\u001b[1;32mFalse\u001b[0m\u001b[1;33m)\u001b[0m\u001b[1;33m\u001b[0m\u001b[1;33m\u001b[0m\u001b[0m\n\u001b[0m\u001b[0;32m    408\u001b[0m         \u001b[0mscores\u001b[0m \u001b[1;33m=\u001b[0m \u001b[0msafe_sparse_dot\u001b[0m\u001b[1;33m(\u001b[0m\u001b[0mX\u001b[0m\u001b[1;33m,\u001b[0m \u001b[0mself\u001b[0m\u001b[1;33m.\u001b[0m\u001b[0mcoef_\u001b[0m\u001b[1;33m.\u001b[0m\u001b[0mT\u001b[0m\u001b[1;33m,\u001b[0m \u001b[0mdense_output\u001b[0m\u001b[1;33m=\u001b[0m\u001b[1;32mTrue\u001b[0m\u001b[1;33m)\u001b[0m \u001b[1;33m+\u001b[0m \u001b[0mself\u001b[0m\u001b[1;33m.\u001b[0m\u001b[0mintercept_\u001b[0m\u001b[1;33m\u001b[0m\u001b[1;33m\u001b[0m\u001b[0m\n\u001b[0;32m    409\u001b[0m         \u001b[1;32mreturn\u001b[0m \u001b[0mscores\u001b[0m\u001b[1;33m.\u001b[0m\u001b[0mravel\u001b[0m\u001b[1;33m(\u001b[0m\u001b[1;33m)\u001b[0m \u001b[1;32mif\u001b[0m \u001b[0mscores\u001b[0m\u001b[1;33m.\u001b[0m\u001b[0mshape\u001b[0m\u001b[1;33m[\u001b[0m\u001b[1;36m1\u001b[0m\u001b[1;33m]\u001b[0m \u001b[1;33m==\u001b[0m \u001b[1;36m1\u001b[0m \u001b[1;32melse\u001b[0m \u001b[0mscores\u001b[0m\u001b[1;33m\u001b[0m\u001b[1;33m\u001b[0m\u001b[0m\n",
      "\u001b[1;32mC:\\ProgramData\\Anaconda3\\lib\\site-packages\\sklearn\\base.py\u001b[0m in \u001b[0;36m_validate_data\u001b[1;34m(self, X, y, reset, validate_separately, **check_params)\u001b[0m\n\u001b[0;32m    583\u001b[0m \u001b[1;33m\u001b[0m\u001b[0m\n\u001b[0;32m    584\u001b[0m         \u001b[1;32mif\u001b[0m \u001b[1;32mnot\u001b[0m \u001b[0mno_val_X\u001b[0m \u001b[1;32mand\u001b[0m \u001b[0mcheck_params\u001b[0m\u001b[1;33m.\u001b[0m\u001b[0mget\u001b[0m\u001b[1;33m(\u001b[0m\u001b[1;34m\"ensure_2d\"\u001b[0m\u001b[1;33m,\u001b[0m \u001b[1;32mTrue\u001b[0m\u001b[1;33m)\u001b[0m\u001b[1;33m:\u001b[0m\u001b[1;33m\u001b[0m\u001b[1;33m\u001b[0m\u001b[0m\n\u001b[1;32m--> 585\u001b[1;33m             \u001b[0mself\u001b[0m\u001b[1;33m.\u001b[0m\u001b[0m_check_n_features\u001b[0m\u001b[1;33m(\u001b[0m\u001b[0mX\u001b[0m\u001b[1;33m,\u001b[0m \u001b[0mreset\u001b[0m\u001b[1;33m=\u001b[0m\u001b[0mreset\u001b[0m\u001b[1;33m)\u001b[0m\u001b[1;33m\u001b[0m\u001b[1;33m\u001b[0m\u001b[0m\n\u001b[0m\u001b[0;32m    586\u001b[0m \u001b[1;33m\u001b[0m\u001b[0m\n\u001b[0;32m    587\u001b[0m         \u001b[1;32mreturn\u001b[0m \u001b[0mout\u001b[0m\u001b[1;33m\u001b[0m\u001b[1;33m\u001b[0m\u001b[0m\n",
      "\u001b[1;32mC:\\ProgramData\\Anaconda3\\lib\\site-packages\\sklearn\\base.py\u001b[0m in \u001b[0;36m_check_n_features\u001b[1;34m(self, X, reset)\u001b[0m\n\u001b[0;32m    398\u001b[0m \u001b[1;33m\u001b[0m\u001b[0m\n\u001b[0;32m    399\u001b[0m         \u001b[1;32mif\u001b[0m \u001b[0mn_features\u001b[0m \u001b[1;33m!=\u001b[0m \u001b[0mself\u001b[0m\u001b[1;33m.\u001b[0m\u001b[0mn_features_in_\u001b[0m\u001b[1;33m:\u001b[0m\u001b[1;33m\u001b[0m\u001b[1;33m\u001b[0m\u001b[0m\n\u001b[1;32m--> 400\u001b[1;33m             raise ValueError(\n\u001b[0m\u001b[0;32m    401\u001b[0m                 \u001b[1;34mf\"X has {n_features} features, but {self.__class__.__name__} \"\u001b[0m\u001b[1;33m\u001b[0m\u001b[1;33m\u001b[0m\u001b[0m\n\u001b[0;32m    402\u001b[0m                 \u001b[1;34mf\"is expecting {self.n_features_in_} features as input.\"\u001b[0m\u001b[1;33m\u001b[0m\u001b[1;33m\u001b[0m\u001b[0m\n",
      "\u001b[1;31mValueError\u001b[0m: X has 53301 features, but LogisticRegression is expecting 201035 features as input."
     ]
    }
   ],
   "source": [
    "# These reviews are now correctly identified\n",
    "print(model.predict(review1.transform(['no an issue, phone is working',\n",
    "                                    'an issue, phone is not working'])))"
   ]
  },
  {
   "cell_type": "code",
   "execution_count": null,
   "metadata": {},
   "outputs": [],
   "source": [
    "# These reviews are now correctly identified\n",
    "print(model.predict(review2.transform(['no an issue, phone is working',\n",
    "                                    'an issue, phone is not working'])))"
   ]
  },
  {
   "cell_type": "code",
   "execution_count": 40,
   "metadata": {},
   "outputs": [
    {
     "name": "stdout",
     "output_type": "stream",
     "text": [
      "[1 0]\n"
     ]
    }
   ],
   "source": [
    "# These reviews are now correctly identified\n",
    "print(model.predict(review3.transform(['no an issue, phone is working',\n",
    "                                    'an issue, phone is not working'])))"
   ]
  },
  {
   "cell_type": "code",
   "execution_count": 41,
   "metadata": {},
   "outputs": [
    {
     "name": "stdout",
     "output_type": "stream",
     "text": [
      "[1 0]\n"
     ]
    }
   ],
   "source": [
    "# These reviews are now correctly identified\n",
    "print(model.predict(review3.transform(['not bad, okay',\n",
    "                                    'worst experience ever'])))"
   ]
  },
  {
   "cell_type": "markdown",
   "metadata": {
    "id": "-fFmYbiUaPB9"
   },
   "source": [
    "# Text Classification\n",
    "\n",
    "## Using sklearn's NaiveBayes Classifier\n",
    "\n",
    "### <font color=green> Exercise C</font> \n",
    "1. Do text classification for the Amazon reviews dataset using NaiveBayes Classifier\n",
    "2. Evaluate your model classifier"
   ]
  },
  {
   "cell_type": "code",
   "execution_count": null,
   "metadata": {
    "id": "f9p_8dXzaPB9"
   },
   "outputs": [],
   "source": [
    "from sklearn import naive_bayes\n",
    "from sklearn.feature_extraction.text import TfidfVectorizer\n",
    "from sklearn import metrics"
   ]
  },
  {
   "cell_type": "code",
   "execution_count": null,
   "metadata": {
    "id": "sSMWfoOXaPB-"
   },
   "outputs": [],
   "source": [
    "review4 = TfidfVectorizer(min_df=5, ngram_range=(1,2)).fit(X_train)\n",
    "X_train_vectorized4 = review4.transform(X_train)"
   ]
  },
  {
   "cell_type": "code",
   "execution_count": null,
   "metadata": {
    "id": "EGLofLQMaPB-"
   },
   "outputs": [],
   "source": [
    "model_clsfNB = naive_bayes.MultinomialNB()\n",
    "model_clsfNB.fit(X_train_vectorized4,y_train)\n",
    "test_predictions = model_clsfNB.predict(review4.transform(X_test))"
   ]
  },
  {
   "cell_type": "code",
   "execution_count": null,
   "metadata": {
    "colab": {
     "base_uri": "https://localhost:8080/"
    },
    "executionInfo": {
     "elapsed": 450,
     "status": "ok",
     "timestamp": 1674560446046,
     "user": {
      "displayName": "Mogana Darshini",
      "userId": "05208473317274135119"
     },
     "user_tz": -480
    },
    "id": "lAKitUVfaPB-",
    "outputId": "15cb0018-aec1-444a-dc45-79bdddbf1187"
   },
   "outputs": [
    {
     "data": {
      "text/plain": [
       "0.949357726741923"
      ]
     },
     "execution_count": 89,
     "metadata": {},
     "output_type": "execute_result"
    }
   ],
   "source": [
    "metrics.f1_score(y_test,test_predictions,average='micro')"
   ]
  },
  {
   "cell_type": "code",
   "execution_count": null,
   "metadata": {
    "colab": {
     "base_uri": "https://localhost:8080/"
    },
    "executionInfo": {
     "elapsed": 537,
     "status": "ok",
     "timestamp": 1674560449253,
     "user": {
      "displayName": "Mogana Darshini",
      "userId": "05208473317274135119"
     },
     "user_tz": -480
    },
    "id": "8XmwPSiiaPB_",
    "outputId": "6cb207fe-5915-4c85-a35e-dfea5d6d893c"
   },
   "outputs": [
    {
     "data": {
      "text/plain": [
       "0.949357726741923"
      ]
     },
     "execution_count": 90,
     "metadata": {},
     "output_type": "execute_result"
    }
   ],
   "source": [
    "metrics.accuracy_score(y_test,test_predictions)"
   ]
  },
  {
   "cell_type": "code",
   "execution_count": null,
   "metadata": {
    "colab": {
     "base_uri": "https://localhost:8080/"
    },
    "executionInfo": {
     "elapsed": 927,
     "status": "ok",
     "timestamp": 1674560453214,
     "user": {
      "displayName": "Mogana Darshini",
      "userId": "05208473317274135119"
     },
     "user_tz": -480
    },
    "id": "BmBkob93aPB_",
    "outputId": "ed8ba683-c880-45ec-d9fa-e9215e5f1805"
   },
   "outputs": [
    {
     "data": {
      "text/plain": [
       "0.949357726741923"
      ]
     },
     "execution_count": 91,
     "metadata": {},
     "output_type": "execute_result"
    }
   ],
   "source": [
    "metrics.recall_score(y_test,test_predictions,average='micro')"
   ]
  },
  {
   "cell_type": "code",
   "execution_count": null,
   "metadata": {
    "colab": {
     "base_uri": "https://localhost:8080/"
    },
    "executionInfo": {
     "elapsed": 4,
     "status": "ok",
     "timestamp": 1674560466850,
     "user": {
      "displayName": "Mogana Darshini",
      "userId": "05208473317274135119"
     },
     "user_tz": -480
    },
    "id": "KOlATVVYaPB_",
    "outputId": "9988ad53-80c7-4a56-cfd1-fd084b767850"
   },
   "outputs": [
    {
     "data": {
      "text/plain": [
       "0.949357726741923"
      ]
     },
     "execution_count": 92,
     "metadata": {},
     "output_type": "execute_result"
    }
   ],
   "source": [
    "metrics.precision_score(y_test,test_predictions,average='micro')"
   ]
  }
 ],
 "metadata": {
  "colab": {
   "provenance": []
  },
  "kernelspec": {
   "display_name": "Python 3 (ipykernel)",
   "language": "python",
   "name": "python3"
  },
  "language_info": {
   "codemirror_mode": {
    "name": "ipython",
    "version": 3
   },
   "file_extension": ".py",
   "mimetype": "text/x-python",
   "name": "python",
   "nbconvert_exporter": "python",
   "pygments_lexer": "ipython3",
   "version": "3.9.13"
  }
 },
 "nbformat": 4,
 "nbformat_minor": 1
}
